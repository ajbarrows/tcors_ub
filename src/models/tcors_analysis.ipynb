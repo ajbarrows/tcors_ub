{
 "cells": [
  {
   "cell_type": "code",
   "execution_count": null,
   "metadata": {},
   "outputs": [],
   "source": [
    "from tcors_functions import *\n",
    "from counterprop import *\n",
    "\n",
    "\n",
    "\n",
    "if __name__ == \"__main__\":\n",
    "    random_state = 42\n",
    "\n",
    "    # Load Week 12 data\n",
    "    df = load_features(\"model_features.pkl\")\n",
    "\n",
    "\n",
    "    # (Example)\n",
    "\n",
    "    # df_sub = w12_df[[\"screen_sex\", \"screen_age\", \"project\", \"baseline_cpd\", \"dose\", \"total_cpd\"]]\n",
    "\n",
    "    # X_train, X_test, y_train, y_test = make_training_split(df_sub, y = [\"total_cpd\"])\n",
    "\n",
    "    # print(X_train)\n",
    "    # print(y_train)\n",
    "\n",
    "    print(df.head())"
   ]
  }
 ],
 "metadata": {
  "kernelspec": {
   "display_name": "Python 3.9.12 ('base')",
   "language": "python",
   "name": "python3"
  },
  "language_info": {
   "name": "python",
   "version": "3.9.12"
  },
  "orig_nbformat": 4,
  "vscode": {
   "interpreter": {
    "hash": "5ccfa51b6a2c575f9ec4b5f633399d96d9a08ae2d3de4a2b338c15ea2dbb5975"
   }
  }
 },
 "nbformat": 4,
 "nbformat_minor": 2
}
