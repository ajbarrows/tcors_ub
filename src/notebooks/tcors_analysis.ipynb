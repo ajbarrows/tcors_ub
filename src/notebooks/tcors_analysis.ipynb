{
 "cells": [
  {
   "cell_type": "code",
   "execution_count": 1,
   "metadata": {},
   "outputs": [],
   "source": [
    "import pandas as pd\n",
    "import numpy as np\n",
    "import sys\n",
    "\n",
    "sys.path.insert(0, '../visualize/')\n",
    "sys.path.insert(0, '../models/')\n",
    "sys.path.insert(0, '../features/')\n",
    "\n",
    "from tcors_functions import *\n",
    "from build_features import *\n",
    "from counterprop import *\n",
    "from linear_regression import *\n",
    "from visualize import *\n",
    "\n",
    "from sklearn.preprocessing import MinMaxScaler\n",
    "from sklearn.model_selection import train_test_split, KFold\n",
    "from sklearn.metrics import f1_score\n",
    "\n",
    "random_state = 42\n",
    "\n",
    "bin_step = 0.1"
   ]
  },
  {
   "cell_type": "markdown",
   "metadata": {},
   "source": [
    "Prepare Data"
   ]
  },
  {
   "cell_type": "code",
   "execution_count": 2,
   "metadata": {},
   "outputs": [],
   "source": [
    "build_features(step = bin_step)"
   ]
  },
  {
   "cell_type": "code",
   "execution_count": 3,
   "metadata": {},
   "outputs": [
    {
     "data": {
      "text/html": [
       "<div>\n",
       "<style scoped>\n",
       "    .dataframe tbody tr th:only-of-type {\n",
       "        vertical-align: middle;\n",
       "    }\n",
       "\n",
       "    .dataframe tbody tr th {\n",
       "        vertical-align: top;\n",
       "    }\n",
       "\n",
       "    .dataframe thead th {\n",
       "        text-align: right;\n",
       "    }\n",
       "</style>\n",
       "<table border=\"1\" class=\"dataframe\">\n",
       "  <thead>\n",
       "    <tr style=\"text-align: right;\">\n",
       "      <th></th>\n",
       "      <th>screen_id</th>\n",
       "      <th>week</th>\n",
       "      <th>project</th>\n",
       "      <th>site</th>\n",
       "      <th>dose</th>\n",
       "      <th>screen_sex</th>\n",
       "      <th>screen_age</th>\n",
       "      <th>carmine_nicotine</th>\n",
       "      <th>prp_change</th>\n",
       "      <th>prp_change_bin</th>\n",
       "      <th>prp_change_bin_label</th>\n",
       "    </tr>\n",
       "  </thead>\n",
       "  <tbody>\n",
       "    <tr>\n",
       "      <th>37</th>\n",
       "      <td>J-A003</td>\n",
       "      <td>week12</td>\n",
       "      <td>project 1</td>\n",
       "      <td>uvm</td>\n",
       "      <td>15.8</td>\n",
       "      <td>Female</td>\n",
       "      <td>32</td>\n",
       "      <td>16.7</td>\n",
       "      <td>0.487500</td>\n",
       "      <td>(0.4, 0.5]</td>\n",
       "      <td>4</td>\n",
       "    </tr>\n",
       "    <tr>\n",
       "      <th>50</th>\n",
       "      <td>J-A004</td>\n",
       "      <td>week12</td>\n",
       "      <td>project 1</td>\n",
       "      <td>uvm</td>\n",
       "      <td>0.4</td>\n",
       "      <td>Female</td>\n",
       "      <td>38</td>\n",
       "      <td>15.9</td>\n",
       "      <td>0.725225</td>\n",
       "      <td>(0.7, 0.8]</td>\n",
       "      <td>7</td>\n",
       "    </tr>\n",
       "    <tr>\n",
       "      <th>76</th>\n",
       "      <td>J-A007</td>\n",
       "      <td>week12</td>\n",
       "      <td>project 1</td>\n",
       "      <td>uvm</td>\n",
       "      <td>15.8</td>\n",
       "      <td>Female</td>\n",
       "      <td>44</td>\n",
       "      <td>16.2</td>\n",
       "      <td>0.971223</td>\n",
       "      <td>(0.9, 1.0]</td>\n",
       "      <td>9</td>\n",
       "    </tr>\n",
       "    <tr>\n",
       "      <th>89</th>\n",
       "      <td>J-A010</td>\n",
       "      <td>week12</td>\n",
       "      <td>project 1</td>\n",
       "      <td>uvm</td>\n",
       "      <td>15.8</td>\n",
       "      <td>Female</td>\n",
       "      <td>28</td>\n",
       "      <td>15.8</td>\n",
       "      <td>0.895522</td>\n",
       "      <td>(0.8, 0.9]</td>\n",
       "      <td>8</td>\n",
       "    </tr>\n",
       "    <tr>\n",
       "      <th>117</th>\n",
       "      <td>J-A015</td>\n",
       "      <td>week12</td>\n",
       "      <td>project 1</td>\n",
       "      <td>uvm</td>\n",
       "      <td>15.8</td>\n",
       "      <td>Female</td>\n",
       "      <td>25</td>\n",
       "      <td>16.9</td>\n",
       "      <td>1.315152</td>\n",
       "      <td>(1.3, 1.4]</td>\n",
       "      <td>13</td>\n",
       "    </tr>\n",
       "  </tbody>\n",
       "</table>\n",
       "</div>"
      ],
      "text/plain": [
       "    screen_id    week    project site  dose screen_sex  screen_age  \\\n",
       "37     J-A003  week12  project 1  uvm  15.8     Female          32   \n",
       "50     J-A004  week12  project 1  uvm   0.4     Female          38   \n",
       "76     J-A007  week12  project 1  uvm  15.8     Female          44   \n",
       "89     J-A010  week12  project 1  uvm  15.8     Female          28   \n",
       "117    J-A015  week12  project 1  uvm  15.8     Female          25   \n",
       "\n",
       "     carmine_nicotine  prp_change prp_change_bin  prp_change_bin_label  \n",
       "37               16.7    0.487500     (0.4, 0.5]                     4  \n",
       "50               15.9    0.725225     (0.7, 0.8]                     7  \n",
       "76               16.2    0.971223     (0.9, 1.0]                     9  \n",
       "89               15.8    0.895522     (0.8, 0.9]                     8  \n",
       "117              16.9    1.315152     (1.3, 1.4]                    13  "
      ]
     },
     "execution_count": 3,
     "metadata": {},
     "output_type": "execute_result"
    }
   ],
   "source": [
    "df = load_features('model_features.pkl')\n",
    "df.head()"
   ]
  },
  {
   "cell_type": "code",
   "execution_count": 4,
   "metadata": {},
   "outputs": [
    {
     "data": {
      "text/plain": [
       "screen_id                 object\n",
       "week                      object\n",
       "project                   object\n",
       "site                      object\n",
       "dose                     float64\n",
       "screen_sex                object\n",
       "screen_age                 int64\n",
       "carmine_nicotine         float64\n",
       "prp_change               float64\n",
       "prp_change_bin          category\n",
       "prp_change_bin_label        int8\n",
       "dtype: object"
      ]
     },
     "execution_count": 4,
     "metadata": {},
     "output_type": "execute_result"
    }
   ],
   "source": [
    "df.dtypes"
   ]
  },
  {
   "cell_type": "code",
   "execution_count": 5,
   "metadata": {},
   "outputs": [
    {
     "data": {
      "image/png": "[encoded data removed]",
      "text/plain": [
       "<Figure size 418.375x360 with 1 Axes>"
      ]
     },
     "metadata": {
      "needs_background": "light"
     },
     "output_type": "display_data"
    }
   ],
   "source": [
    "plot_bins(df)\n",
    "plt.tight_layout()\n",
    "plt.savefig(\"../../reports/figures/prp_change.png\", dpi = 300)"
   ]
  },
  {
   "cell_type": "code",
   "execution_count": 6,
   "metadata": {},
   "outputs": [],
   "source": [
    "cat_targets = ['prp_change_bin_label']\n",
    "num_targets = ['prp_change']\n",
    "# cat_predictors = ['project', 'site', 'dose', 'screen_sex']\n",
    "num_predictors = ['screen_age', 'dose', 'project_num', 'sex_num', 'site_num', 'carmine_nicotine']\n",
    "num_predictors_withoutnic = num_predictors[:]\n",
    "num_predictors_withoutnic.remove('carmine_nicotine')\n",
    "\n",
    "  # create numeric versions of categorical variables\n",
    "df['project_num'] = df['project'].astype('category').cat.codes\n",
    "df['site_num'] = df['site'].astype('category').cat.codes\n",
    "df['sex_num'] = df['screen_sex'].astype('category').cat.codes\n",
    "\n",
    "def preprocessing(df, num_predictors, random_state):\n",
    "  \n",
    "    X = df[num_predictors]\n",
    "    y = df[cat_targets + num_targets]\n",
    "\n",
    "    X_train, X_test, y_train, y_test = train_test_split(X, y, test_size=0.2, random_state=random_state)\n",
    "\n",
    "    scaler = MinMaxScaler()\n",
    "    scaler.fit(X_train[num_predictors])\n",
    "\n",
    "    X_train[num_predictors] = scaler.transform(X_train[num_predictors])\n",
    "    X_test[num_predictors] = scaler.transform(X_test[num_predictors])\n",
    "\n",
    "    X_train_without_nic = X_train.copy()\n",
    "    X_test_without_nic = X_test.copy()\n",
    "\n",
    "    X_train_without_nic.drop(['carmine_nicotine'], axis=1, inplace=True)\n",
    "    X_test_without_nic.drop(['carmine_nicotine'], axis=1, inplace=True)\n",
    "\n",
    "    return X_train, X_test, X_train_without_nic, X_test_without_nic, y_train, y_test\n",
    "\n",
    "X_train, X_test, X_train_without_nic, X_test_without_nic, y_train, y_test = preprocessing(\n",
    "  df, num_predictors, random_state\n",
    "  )\n",
    "\n",
    "   "
   ]
  },
  {
   "cell_type": "code",
   "execution_count": 7,
   "metadata": {},
   "outputs": [
    {
     "data": {
      "text/html": [
       "<div>\n",
       "<style scoped>\n",
       "    .dataframe tbody tr th:only-of-type {\n",
       "        vertical-align: middle;\n",
       "    }\n",
       "\n",
       "    .dataframe tbody tr th {\n",
       "        vertical-align: top;\n",
       "    }\n",
       "\n",
       "    .dataframe thead th {\n",
       "        text-align: right;\n",
       "    }\n",
       "</style>\n",
       "<table border=\"1\" class=\"dataframe\">\n",
       "  <thead>\n",
       "    <tr style=\"text-align: right;\">\n",
       "      <th></th>\n",
       "      <th>screen_age</th>\n",
       "      <th>dose</th>\n",
       "      <th>project_num</th>\n",
       "      <th>sex_num</th>\n",
       "      <th>site_num</th>\n",
       "    </tr>\n",
       "  </thead>\n",
       "  <tbody>\n",
       "    <tr>\n",
       "      <th>6009</th>\n",
       "      <td>0.36</td>\n",
       "      <td>1.00000</td>\n",
       "      <td>1.0</td>\n",
       "      <td>0.0</td>\n",
       "      <td>1.0</td>\n",
       "    </tr>\n",
       "    <tr>\n",
       "      <th>6137</th>\n",
       "      <td>0.76</td>\n",
       "      <td>0.12987</td>\n",
       "      <td>1.0</td>\n",
       "      <td>1.0</td>\n",
       "      <td>0.0</td>\n",
       "    </tr>\n",
       "    <tr>\n",
       "      <th>3371</th>\n",
       "      <td>0.20</td>\n",
       "      <td>0.12987</td>\n",
       "      <td>0.5</td>\n",
       "      <td>0.0</td>\n",
       "      <td>1.0</td>\n",
       "    </tr>\n",
       "    <tr>\n",
       "      <th>5191</th>\n",
       "      <td>0.08</td>\n",
       "      <td>0.00000</td>\n",
       "      <td>1.0</td>\n",
       "      <td>1.0</td>\n",
       "      <td>1.0</td>\n",
       "    </tr>\n",
       "    <tr>\n",
       "      <th>8731</th>\n",
       "      <td>0.68</td>\n",
       "      <td>0.12987</td>\n",
       "      <td>0.5</td>\n",
       "      <td>1.0</td>\n",
       "      <td>0.5</td>\n",
       "    </tr>\n",
       "    <tr>\n",
       "      <th>...</th>\n",
       "      <td>...</td>\n",
       "      <td>...</td>\n",
       "      <td>...</td>\n",
       "      <td>...</td>\n",
       "      <td>...</td>\n",
       "    </tr>\n",
       "    <tr>\n",
       "      <th>2200</th>\n",
       "      <td>0.24</td>\n",
       "      <td>0.12987</td>\n",
       "      <td>0.5</td>\n",
       "      <td>1.0</td>\n",
       "      <td>1.0</td>\n",
       "    </tr>\n",
       "    <tr>\n",
       "      <th>5165</th>\n",
       "      <td>0.58</td>\n",
       "      <td>0.12987</td>\n",
       "      <td>1.0</td>\n",
       "      <td>0.0</td>\n",
       "      <td>1.0</td>\n",
       "    </tr>\n",
       "    <tr>\n",
       "      <th>6455</th>\n",
       "      <td>0.74</td>\n",
       "      <td>0.00000</td>\n",
       "      <td>1.0</td>\n",
       "      <td>1.0</td>\n",
       "      <td>0.0</td>\n",
       "    </tr>\n",
       "    <tr>\n",
       "      <th>7883</th>\n",
       "      <td>0.40</td>\n",
       "      <td>1.00000</td>\n",
       "      <td>0.0</td>\n",
       "      <td>0.0</td>\n",
       "      <td>0.5</td>\n",
       "    </tr>\n",
       "    <tr>\n",
       "      <th>2146</th>\n",
       "      <td>0.30</td>\n",
       "      <td>0.12987</td>\n",
       "      <td>0.5</td>\n",
       "      <td>0.0</td>\n",
       "      <td>1.0</td>\n",
       "    </tr>\n",
       "  </tbody>\n",
       "</table>\n",
       "<p>410 rows × 5 columns</p>\n",
       "</div>"
      ],
      "text/plain": [
       "      screen_age     dose  project_num  sex_num  site_num\n",
       "6009        0.36  1.00000          1.0      0.0       1.0\n",
       "6137        0.76  0.12987          1.0      1.0       0.0\n",
       "3371        0.20  0.12987          0.5      0.0       1.0\n",
       "5191        0.08  0.00000          1.0      1.0       1.0\n",
       "8731        0.68  0.12987          0.5      1.0       0.5\n",
       "...          ...      ...          ...      ...       ...\n",
       "2200        0.24  0.12987          0.5      1.0       1.0\n",
       "5165        0.58  0.12987          1.0      0.0       1.0\n",
       "6455        0.74  0.00000          1.0      1.0       0.0\n",
       "7883        0.40  1.00000          0.0      0.0       0.5\n",
       "2146        0.30  0.12987          0.5      0.0       1.0\n",
       "\n",
       "[410 rows x 5 columns]"
      ]
     },
     "execution_count": 7,
     "metadata": {},
     "output_type": "execute_result"
    }
   ],
   "source": [
    "X_train_without_nic"
   ]
  },
  {
   "cell_type": "code",
   "execution_count": 8,
   "metadata": {},
   "outputs": [
    {
     "data": {
      "text/plain": [
       "6009    1.791045\n",
       "6137    0.623762\n",
       "3371    0.913043\n",
       "5191    0.367213\n",
       "8731    2.920000\n",
       "          ...   \n",
       "2200    0.586207\n",
       "5165    0.652273\n",
       "6455    1.065217\n",
       "7883    0.436137\n",
       "2146    0.828571\n",
       "Name: prp_change, Length: 410, dtype: float64"
      ]
     },
     "execution_count": 8,
     "metadata": {},
     "output_type": "execute_result"
    }
   ],
   "source": [
    "y_train['prp_change']"
   ]
  },
  {
   "cell_type": "markdown",
   "metadata": {},
   "source": [
    "## Linear Regression"
   ]
  },
  {
   "cell_type": "code",
   "execution_count": 9,
   "metadata": {},
   "outputs": [],
   "source": [
    "without_nic = fit_linear(\n",
    "    X_train_without_nic,\n",
    "    X_test_without_nic,\n",
    "    y_train[['prp_change']],\n",
    "    y_test[['prp_change']],\n",
    "    bin_step = bin_step,\n",
    "    random_state=random_state\n",
    ")\n",
    "\n",
    "with_nic = fit_linear(\n",
    "    X_train,\n",
    "    X_test,\n",
    "    y_train[['prp_change']],\n",
    "    y_test[['prp_change']],\n",
    "    bin_step = bin_step,\n",
    "    random_state=random_state\n",
    ")"
   ]
  },
  {
   "cell_type": "markdown",
   "metadata": {},
   "source": [
    "Performance when treated as a regression"
   ]
  },
  {
   "cell_type": "code",
   "execution_count": 10,
   "metadata": {},
   "outputs": [
    {
     "data": {
      "text/html": [
       "<div>\n",
       "<style scoped>\n",
       "    .dataframe tbody tr th:only-of-type {\n",
       "        vertical-align: middle;\n",
       "    }\n",
       "\n",
       "    .dataframe tbody tr th {\n",
       "        vertical-align: top;\n",
       "    }\n",
       "\n",
       "    .dataframe thead th {\n",
       "        text-align: right;\n",
       "    }\n",
       "</style>\n",
       "<table border=\"1\" class=\"dataframe\">\n",
       "  <thead>\n",
       "    <tr style=\"text-align: right;\">\n",
       "      <th></th>\n",
       "      <th>mean_cv_r2</th>\n",
       "      <th>sd_cv_r2</th>\n",
       "      <th>test_r2</th>\n",
       "      <th>label</th>\n",
       "      <th>model</th>\n",
       "    </tr>\n",
       "  </thead>\n",
       "  <tbody>\n",
       "    <tr>\n",
       "      <th>1</th>\n",
       "      <td>0.083358</td>\n",
       "      <td>0.075021</td>\n",
       "      <td>0.139511</td>\n",
       "      <td>without_nic</td>\n",
       "      <td>linear_model</td>\n",
       "    </tr>\n",
       "    <tr>\n",
       "      <th>1</th>\n",
       "      <td>0.074846</td>\n",
       "      <td>0.075885</td>\n",
       "      <td>0.092326</td>\n",
       "      <td>with_nic</td>\n",
       "      <td>linear_model</td>\n",
       "    </tr>\n",
       "  </tbody>\n",
       "</table>\n",
       "</div>"
      ],
      "text/plain": [
       "   mean_cv_r2  sd_cv_r2   test_r2        label         model\n",
       "1    0.083358  0.075021  0.139511  without_nic  linear_model\n",
       "1    0.074846  0.075885  0.092326     with_nic  linear_model"
      ]
     },
     "execution_count": 10,
     "metadata": {},
     "output_type": "execute_result"
    }
   ],
   "source": [
    "wo_nic_avg = without_nic.avg_scores\n",
    "wo_nic_avg['label'] = 'without_nic'\n",
    "\n",
    "w_nic_avg = with_nic.avg_scores\n",
    "w_nic_avg['label'] = 'with_nic'\n",
    "\n",
    "lm_r2 = pd.concat([wo_nic_avg, w_nic_avg])\n",
    "lm_r2['model'] = 'linear_model'\n",
    "\n",
    "lm_r2"
   ]
  },
  {
   "cell_type": "markdown",
   "metadata": {},
   "source": [
    "Performance when treated as a classifier"
   ]
  },
  {
   "cell_type": "code",
   "execution_count": 11,
   "metadata": {},
   "outputs": [
    {
     "data": {
      "text/html": [
       "<div>\n",
       "<style scoped>\n",
       "    .dataframe tbody tr th:only-of-type {\n",
       "        vertical-align: middle;\n",
       "    }\n",
       "\n",
       "    .dataframe tbody tr th {\n",
       "        vertical-align: top;\n",
       "    }\n",
       "\n",
       "    .dataframe thead th {\n",
       "        text-align: right;\n",
       "    }\n",
       "</style>\n",
       "<table border=\"1\" class=\"dataframe\">\n",
       "  <thead>\n",
       "    <tr style=\"text-align: right;\">\n",
       "      <th></th>\n",
       "      <th>f1</th>\n",
       "      <th>label</th>\n",
       "      <th>model</th>\n",
       "    </tr>\n",
       "  </thead>\n",
       "  <tbody>\n",
       "    <tr>\n",
       "      <th>0</th>\n",
       "      <td>0.106796</td>\n",
       "      <td>without_nic</td>\n",
       "      <td>linear_model*</td>\n",
       "    </tr>\n",
       "    <tr>\n",
       "      <th>1</th>\n",
       "      <td>0.116505</td>\n",
       "      <td>with_nic</td>\n",
       "      <td>linear_model*</td>\n",
       "    </tr>\n",
       "  </tbody>\n",
       "</table>\n",
       "</div>"
      ],
      "text/plain": [
       "         f1        label          model\n",
       "0  0.106796  without_nic  linear_model*\n",
       "1  0.116505     with_nic  linear_model*"
      ]
     },
     "execution_count": 11,
     "metadata": {},
     "output_type": "execute_result"
    }
   ],
   "source": [
    "lm_f1 = pd.DataFrame(\n",
    "    {\n",
    "        \"f1\" : [without_nic.clf_mets, with_nic.clf_mets],\n",
    "        \"label\" : [\"without_nic\", \"with_nic\"],\n",
    "        \"model\" : ['linear_model*', 'linear_model*']\n",
    "    }\n",
    ")\n",
    "lm_f1\n"
   ]
  },
  {
   "cell_type": "code",
   "execution_count": 12,
   "metadata": {},
   "outputs": [
    {
     "data": {
      "image/png": "[encoded data removed]",
      "text/plain": [
       "<Figure size 453.25x360 with 1 Axes>"
      ]
     },
     "metadata": {
      "needs_background": "light"
     },
     "output_type": "display_data"
    }
   ],
   "source": [
    "clf_plt(lm_f1)"
   ]
  },
  {
   "cell_type": "markdown",
   "metadata": {},
   "source": [
    "## Counter-Propagation  "
   ]
  },
  {
   "cell_type": "code",
   "execution_count": 13,
   "metadata": {},
   "outputs": [],
   "source": [
    "# np.save(file = \"../../data/processed/X_train.npy\", arr= X_train_without_nic)\n",
    "# np.save(file = \"../../data/processed/y_train.npy\", arr = y_train['prp_change_bin_label'])\n",
    "\n",
    "\n",
    "y_train_onehot = onehot_output(y_train['prp_change_bin_label'])\n",
    "X_train_array = np.array(X_train_without_nic)\n",
    "\n",
    "y_train_labels = np.array(y_train['prp_change_bin_label'].reset_index())[:, 1]\n"
   ]
  },
  {
   "cell_type": "code",
   "execution_count": 14,
   "metadata": {},
   "outputs": [
    {
     "data": {
      "text/plain": [
       "(410,)"
      ]
     },
     "execution_count": 14,
     "metadata": {},
     "output_type": "execute_result"
    }
   ],
   "source": [
    "y_train_labels.shape"
   ]
  },
  {
   "cell_type": "markdown",
   "metadata": {},
   "source": [
    "Cross Validation    "
   ]
  },
  {
   "cell_type": "code",
   "execution_count": 15,
   "metadata": {},
   "outputs": [],
   "source": [
    "def counterprp_fit_predict(\n",
    "        X_train: np.array, X_test: np.array, \n",
    "        y_train_onehot: np.array, y_test_onehot: np.array, \n",
    "        y_test_labels: pd.Series, random_init=False,\n",
    "        epochs=25):\n",
    "\n",
    "    mod = train_model(\n",
    "        X_train, \n",
    "        y_train_onehot,\n",
    "        random_init=random_init, \n",
    "        n_hidden = len(X_train), \n",
    "        epochs=25\n",
    "        )\n",
    "    pred1 = predict_model(np.array(X_test), y_test_onehot, mod.pass1_weights)\n",
    "    pred2 = predict_model(np.array(X_test), y_test_onehot, mod.pass2_weights)   \n",
    "\n",
    "    f1_pred1 = f1_score(y_test_labels, pred1.predict_cat, average = 'micro')\n",
    "    f1_pred2 = f1_score(y_test_labels, pred2.predict_cat, average = 'micro')\n",
    "\n",
    "    result = namedtuple(\"result\", [\"pred1\", \"pred2\", \"f1_pred1\", \"f1_pred2\", \"rmse\"])\n",
    "\n",
    "    return result(pred1, pred2, f1_pred1, f1_pred2, mod.rmse_values)\n",
    "\n",
    "def cv_counterprop(X_train_array, y_train_onehot, y_labels, random_init=False, cv=5):\n",
    "    kf = KFold(n_splits=cv)\n",
    "\n",
    "    pred1 = []\n",
    "    pred2 = []\n",
    "    f1_pred1 = []\n",
    "    f1_pred2 = []\n",
    "    rmse_vals = {}\n",
    "\n",
    "    s = 1\n",
    "    for train_index, test_index in kf.split(X_train_array):\n",
    "        X_train = X_train_array[train_index]\n",
    "        X_test = X_train_array[test_index]\n",
    "\n",
    "        y_train = y_train_onehot[train_index]\n",
    "        y_test = y_train_onehot[test_index]\n",
    "\n",
    "        y_labs = y_labels[test_index]\n",
    "\n",
    "        fit = counterprp_fit_predict(X_train, X_test, y_train, y_test, y_labs, random_init=random_init)\n",
    "        pred1.append(fit.pred1)\n",
    "        pred2.append(fit.pred2)\n",
    "        f1_pred1.append(fit.f1_pred1)\n",
    "        f1_pred2.append(fit.f1_pred2)\n",
    "\n",
    "        rmse_vals[s] = fit.rmse\n",
    "        s += 1\n",
    "\n",
    "\n",
    "    return pred1, pred2, f1_pred1, f1_pred2, rmse_vals\n",
    "\n",
    "pred1, pred2, f1_pred1, f1_pred2, rmse = cv_counterprop(X_train_array, y_train_onehot, y_train_labels, random_init=False)\n",
    "\n"
   ]
  },
  {
   "cell_type": "markdown",
   "metadata": {},
   "source": []
  },
  {
   "cell_type": "code",
   "execution_count": 16,
   "metadata": {},
   "outputs": [
    {
     "data": {
      "text/html": [
       "<div>\n",
       "<style scoped>\n",
       "    .dataframe tbody tr th:only-of-type {\n",
       "        vertical-align: middle;\n",
       "    }\n",
       "\n",
       "    .dataframe tbody tr th {\n",
       "        vertical-align: top;\n",
       "    }\n",
       "\n",
       "    .dataframe thead th {\n",
       "        text-align: right;\n",
       "    }\n",
       "</style>\n",
       "<table border=\"1\" class=\"dataframe\">\n",
       "  <thead>\n",
       "    <tr style=\"text-align: right;\">\n",
       "      <th></th>\n",
       "      <th>mean_cv_f1</th>\n",
       "      <th>mean_cv_std</th>\n",
       "      <th>model</th>\n",
       "    </tr>\n",
       "  </thead>\n",
       "  <tbody>\n",
       "    <tr>\n",
       "      <th>1</th>\n",
       "      <td>0.068293</td>\n",
       "      <td>0.023897</td>\n",
       "      <td>fixed_w1</td>\n",
       "    </tr>\n",
       "    <tr>\n",
       "      <th>1</th>\n",
       "      <td>0.063415</td>\n",
       "      <td>0.014222</td>\n",
       "      <td>free_w1</td>\n",
       "    </tr>\n",
       "  </tbody>\n",
       "</table>\n",
       "</div>"
      ],
      "text/plain": [
       "   mean_cv_f1  mean_cv_std     model\n",
       "1    0.068293     0.023897  fixed_w1\n",
       "1    0.063415     0.014222   free_w1"
      ]
     },
     "execution_count": 16,
     "metadata": {},
     "output_type": "execute_result"
    }
   ],
   "source": [
    "p1 = {\n",
    "    \"mean_cv_f1\" : np.mean(f1_pred1), \n",
    "    \"mean_cv_std\" : np.std(f1_pred1),\n",
    "    \"model\" : \"fixed_w1\"\n",
    "    }\n",
    "\n",
    "p2 = {\n",
    "    \"mean_cv_f1\" : np.mean(f1_pred2), \n",
    "    \"mean_cv_std\" : np.std(f1_pred2),\n",
    "    \"model\" : \"free_w1\"\n",
    "    }\n",
    "\n",
    "pd.concat([pd.DataFrame(p1, index = [1]), pd.DataFrame(p2, index = [1])])"
   ]
  },
  {
   "cell_type": "code",
   "execution_count": 17,
   "metadata": {},
   "outputs": [
    {
     "data": {
      "image/png": "[encoded data removed]",
      "text/plain": [
       "<Figure size 432x288 with 1 Axes>"
      ]
     },
     "metadata": {
      "needs_background": "light"
     },
     "output_type": "display_data"
    }
   ],
   "source": [
    "mod = train_model(\n",
    "        X_train_array, \n",
    "        y_train_onehot, \n",
    "        n_hidden = len(X_train_array), \n",
    "        epochs=25\n",
    "        )\n",
    "plt.plot(mod.rmse_values)\n",
    "plt.ylabel(\"RMSE\")\n",
    "plt.title(\"Counter-Propagation With 2-Stage Training\")\n",
    "plt.savefig(\"../../reports/figures/counterprop_train.png\", dpi = 300)\n",
    "plt.show()\n"
   ]
  },
  {
   "cell_type": "code",
   "execution_count": 18,
   "metadata": {},
   "outputs": [
    {
     "data": {
      "text/html": [
       "<div>\n",
       "<style scoped>\n",
       "    .dataframe tbody tr th:only-of-type {\n",
       "        vertical-align: middle;\n",
       "    }\n",
       "\n",
       "    .dataframe tbody tr th {\n",
       "        vertical-align: top;\n",
       "    }\n",
       "\n",
       "    .dataframe thead th {\n",
       "        text-align: right;\n",
       "    }\n",
       "</style>\n",
       "<table border=\"1\" class=\"dataframe\">\n",
       "  <thead>\n",
       "    <tr style=\"text-align: right;\">\n",
       "      <th></th>\n",
       "      <th>fold</th>\n",
       "      <th>rmse</th>\n",
       "      <th>epoch</th>\n",
       "    </tr>\n",
       "  </thead>\n",
       "  <tbody>\n",
       "    <tr>\n",
       "      <th>0</th>\n",
       "      <td>1</td>\n",
       "      <td>0.146379</td>\n",
       "      <td>0</td>\n",
       "    </tr>\n",
       "    <tr>\n",
       "      <th>1</th>\n",
       "      <td>1</td>\n",
       "      <td>0.128534</td>\n",
       "      <td>1</td>\n",
       "    </tr>\n",
       "    <tr>\n",
       "      <th>2</th>\n",
       "      <td>1</td>\n",
       "      <td>0.113694</td>\n",
       "      <td>2</td>\n",
       "    </tr>\n",
       "    <tr>\n",
       "      <th>3</th>\n",
       "      <td>1</td>\n",
       "      <td>0.101152</td>\n",
       "      <td>3</td>\n",
       "    </tr>\n",
       "    <tr>\n",
       "      <th>4</th>\n",
       "      <td>1</td>\n",
       "      <td>0.090422</td>\n",
       "      <td>4</td>\n",
       "    </tr>\n",
       "    <tr>\n",
       "      <th>...</th>\n",
       "      <td>...</td>\n",
       "      <td>...</td>\n",
       "      <td>...</td>\n",
       "    </tr>\n",
       "    <tr>\n",
       "      <th>245</th>\n",
       "      <td>5</td>\n",
       "      <td>0.049116</td>\n",
       "      <td>45</td>\n",
       "    </tr>\n",
       "    <tr>\n",
       "      <th>246</th>\n",
       "      <td>5</td>\n",
       "      <td>0.049115</td>\n",
       "      <td>46</td>\n",
       "    </tr>\n",
       "    <tr>\n",
       "      <th>247</th>\n",
       "      <td>5</td>\n",
       "      <td>0.049114</td>\n",
       "      <td>47</td>\n",
       "    </tr>\n",
       "    <tr>\n",
       "      <th>248</th>\n",
       "      <td>5</td>\n",
       "      <td>0.049113</td>\n",
       "      <td>48</td>\n",
       "    </tr>\n",
       "    <tr>\n",
       "      <th>249</th>\n",
       "      <td>5</td>\n",
       "      <td>0.049113</td>\n",
       "      <td>49</td>\n",
       "    </tr>\n",
       "  </tbody>\n",
       "</table>\n",
       "<p>250 rows × 3 columns</p>\n",
       "</div>"
      ],
      "text/plain": [
       "     fold      rmse  epoch\n",
       "0       1  0.146379      0\n",
       "1       1  0.128534      1\n",
       "2       1  0.113694      2\n",
       "3       1  0.101152      3\n",
       "4       1  0.090422      4\n",
       "..    ...       ...    ...\n",
       "245     5  0.049116     45\n",
       "246     5  0.049115     46\n",
       "247     5  0.049114     47\n",
       "248     5  0.049113     48\n",
       "249     5  0.049113     49\n",
       "\n",
       "[250 rows x 3 columns]"
      ]
     },
     "execution_count": 18,
     "metadata": {},
     "output_type": "execute_result"
    }
   ],
   "source": [
    "rmse_df = pd.DataFrame(rmse)\n",
    "rmse_df = pd.melt(rmse_df, var_name = \"fold\", value_name = \"rmse\")\n",
    "rmse_df['epoch'] = rmse_df.groupby('fold').cumcount()\n",
    "# rmse_df['avg_rmse'] = rmse_df.groupby(['epoch']).mean()\n",
    "rmse_df\n"
   ]
  },
  {
   "cell_type": "code",
   "execution_count": 19,
   "metadata": {},
   "outputs": [
    {
     "data": {
      "image/png": "[encoded data removed]",
      "text/plain": [
       "<Figure size 432x288 with 1 Axes>"
      ]
     },
     "metadata": {
      "needs_background": "light"
     },
     "output_type": "display_data"
    }
   ],
   "source": [
    "rmse_cv(rmse, title=\"Cross-Validated Training: Fixed Initialization\")\n",
    "plt.savefig(\"../../reports/figures/counterprop_cv_fixed.png\", dpi = 300)"
   ]
  },
  {
   "cell_type": "markdown",
   "metadata": {},
   "source": [
    "Repeat the same with random initialization"
   ]
  },
  {
   "cell_type": "code",
   "execution_count": 20,
   "metadata": {},
   "outputs": [],
   "source": [
    "pred1, pred2, f1_pred1, f1_pred2, rmse = cv_counterprop(X_train_array, y_train_onehot, y_train_labels, random_init=True)"
   ]
  },
  {
   "cell_type": "code",
   "execution_count": 21,
   "metadata": {},
   "outputs": [
    {
     "data": {
      "image/png": "[encoded data removed]",
      "text/plain": [
       "<Figure size 432x288 with 1 Axes>"
      ]
     },
     "metadata": {
      "needs_background": "light"
     },
     "output_type": "display_data"
    }
   ],
   "source": [
    "rmse_cv(rmse, title=\"Cross-Validated Training: Random Initialization\")\n",
    "plt.savefig(\"../../reports/figures/counterprop_cv_random.png\", dpi = 300)"
   ]
  },
  {
   "cell_type": "code",
   "execution_count": 22,
   "metadata": {},
   "outputs": [
    {
     "data": {
      "text/html": [
       "<div>\n",
       "<style scoped>\n",
       "    .dataframe tbody tr th:only-of-type {\n",
       "        vertical-align: middle;\n",
       "    }\n",
       "\n",
       "    .dataframe tbody tr th {\n",
       "        vertical-align: top;\n",
       "    }\n",
       "\n",
       "    .dataframe thead th {\n",
       "        text-align: right;\n",
       "    }\n",
       "</style>\n",
       "<table border=\"1\" class=\"dataframe\">\n",
       "  <thead>\n",
       "    <tr style=\"text-align: right;\">\n",
       "      <th></th>\n",
       "      <th>mean_cv_f1</th>\n",
       "      <th>mean_cv_std</th>\n",
       "      <th>model</th>\n",
       "    </tr>\n",
       "  </thead>\n",
       "  <tbody>\n",
       "    <tr>\n",
       "      <th>1</th>\n",
       "      <td>0.070732</td>\n",
       "      <td>0.024873</td>\n",
       "      <td>fixed_w1</td>\n",
       "    </tr>\n",
       "    <tr>\n",
       "      <th>1</th>\n",
       "      <td>0.070732</td>\n",
       "      <td>0.026042</td>\n",
       "      <td>free_w1</td>\n",
       "    </tr>\n",
       "  </tbody>\n",
       "</table>\n",
       "</div>"
      ],
      "text/plain": [
       "   mean_cv_f1  mean_cv_std     model\n",
       "1    0.070732     0.024873  fixed_w1\n",
       "1    0.070732     0.026042   free_w1"
      ]
     },
     "execution_count": 22,
     "metadata": {},
     "output_type": "execute_result"
    }
   ],
   "source": [
    "p1 = {\n",
    "    \"mean_cv_f1\" : np.mean(f1_pred1), \n",
    "    \"mean_cv_std\" : np.std(f1_pred1),\n",
    "    \"model\" : \"fixed_w1\"\n",
    "    }\n",
    "\n",
    "p2 = {\n",
    "    \"mean_cv_f1\" : np.mean(f1_pred2), \n",
    "    \"mean_cv_std\" : np.std(f1_pred2),\n",
    "    \"model\" : \"free_w1\"\n",
    "    }\n",
    "\n",
    "pd.concat([pd.DataFrame(p1, index = [1]), pd.DataFrame(p2, index = [1])])"
   ]
  },
  {
   "cell_type": "code",
   "execution_count": 41,
   "metadata": {},
   "outputs": [
    {
     "data": {
      "text/html": [
       "<div>\n",
       "<style scoped>\n",
       "    .dataframe tbody tr th:only-of-type {\n",
       "        vertical-align: middle;\n",
       "    }\n",
       "\n",
       "    .dataframe tbody tr th {\n",
       "        vertical-align: top;\n",
       "    }\n",
       "\n",
       "    .dataframe thead th {\n",
       "        text-align: right;\n",
       "    }\n",
       "</style>\n",
       "<table border=\"1\" class=\"dataframe\">\n",
       "  <thead>\n",
       "    <tr style=\"text-align: right;\">\n",
       "      <th></th>\n",
       "      <th>screen_age</th>\n",
       "      <th>dose</th>\n",
       "      <th>project_num</th>\n",
       "      <th>sex_num</th>\n",
       "      <th>site_num</th>\n",
       "      <th>carmine_nicotine</th>\n",
       "    </tr>\n",
       "  </thead>\n",
       "  <tbody>\n",
       "    <tr>\n",
       "      <th>6009</th>\n",
       "      <td>0.36</td>\n",
       "      <td>1.00000</td>\n",
       "      <td>1.0</td>\n",
       "      <td>0.0</td>\n",
       "      <td>1.0</td>\n",
       "      <td>1.000000</td>\n",
       "    </tr>\n",
       "    <tr>\n",
       "      <th>6137</th>\n",
       "      <td>0.76</td>\n",
       "      <td>0.12987</td>\n",
       "      <td>1.0</td>\n",
       "      <td>1.0</td>\n",
       "      <td>0.0</td>\n",
       "      <td>0.354037</td>\n",
       "    </tr>\n",
       "    <tr>\n",
       "      <th>3371</th>\n",
       "      <td>0.20</td>\n",
       "      <td>0.12987</td>\n",
       "      <td>0.5</td>\n",
       "      <td>0.0</td>\n",
       "      <td>1.0</td>\n",
       "      <td>0.161491</td>\n",
       "    </tr>\n",
       "    <tr>\n",
       "      <th>5191</th>\n",
       "      <td>0.08</td>\n",
       "      <td>0.00000</td>\n",
       "      <td>1.0</td>\n",
       "      <td>1.0</td>\n",
       "      <td>1.0</td>\n",
       "      <td>0.540373</td>\n",
       "    </tr>\n",
       "    <tr>\n",
       "      <th>8731</th>\n",
       "      <td>0.68</td>\n",
       "      <td>0.12987</td>\n",
       "      <td>0.5</td>\n",
       "      <td>1.0</td>\n",
       "      <td>0.5</td>\n",
       "      <td>0.354037</td>\n",
       "    </tr>\n",
       "    <tr>\n",
       "      <th>...</th>\n",
       "      <td>...</td>\n",
       "      <td>...</td>\n",
       "      <td>...</td>\n",
       "      <td>...</td>\n",
       "      <td>...</td>\n",
       "      <td>...</td>\n",
       "    </tr>\n",
       "    <tr>\n",
       "      <th>2200</th>\n",
       "      <td>0.24</td>\n",
       "      <td>0.12987</td>\n",
       "      <td>0.5</td>\n",
       "      <td>1.0</td>\n",
       "      <td>1.0</td>\n",
       "      <td>0.347826</td>\n",
       "    </tr>\n",
       "    <tr>\n",
       "      <th>5165</th>\n",
       "      <td>0.58</td>\n",
       "      <td>0.12987</td>\n",
       "      <td>1.0</td>\n",
       "      <td>0.0</td>\n",
       "      <td>1.0</td>\n",
       "      <td>0.229814</td>\n",
       "    </tr>\n",
       "    <tr>\n",
       "      <th>6455</th>\n",
       "      <td>0.74</td>\n",
       "      <td>0.00000</td>\n",
       "      <td>1.0</td>\n",
       "      <td>1.0</td>\n",
       "      <td>0.0</td>\n",
       "      <td>0.180124</td>\n",
       "    </tr>\n",
       "    <tr>\n",
       "      <th>7883</th>\n",
       "      <td>0.40</td>\n",
       "      <td>1.00000</td>\n",
       "      <td>0.0</td>\n",
       "      <td>0.0</td>\n",
       "      <td>0.5</td>\n",
       "      <td>0.291925</td>\n",
       "    </tr>\n",
       "    <tr>\n",
       "      <th>2146</th>\n",
       "      <td>0.30</td>\n",
       "      <td>0.12987</td>\n",
       "      <td>0.5</td>\n",
       "      <td>0.0</td>\n",
       "      <td>1.0</td>\n",
       "      <td>0.223602</td>\n",
       "    </tr>\n",
       "  </tbody>\n",
       "</table>\n",
       "<p>410 rows × 6 columns</p>\n",
       "</div>"
      ],
      "text/plain": [
       "      screen_age     dose  project_num  sex_num  site_num  carmine_nicotine\n",
       "6009        0.36  1.00000          1.0      0.0       1.0          1.000000\n",
       "6137        0.76  0.12987          1.0      1.0       0.0          0.354037\n",
       "3371        0.20  0.12987          0.5      0.0       1.0          0.161491\n",
       "5191        0.08  0.00000          1.0      1.0       1.0          0.540373\n",
       "8731        0.68  0.12987          0.5      1.0       0.5          0.354037\n",
       "...          ...      ...          ...      ...       ...               ...\n",
       "2200        0.24  0.12987          0.5      1.0       1.0          0.347826\n",
       "5165        0.58  0.12987          1.0      0.0       1.0          0.229814\n",
       "6455        0.74  0.00000          1.0      1.0       0.0          0.180124\n",
       "7883        0.40  1.00000          0.0      0.0       0.5          0.291925\n",
       "2146        0.30  0.12987          0.5      0.0       1.0          0.223602\n",
       "\n",
       "[410 rows x 6 columns]"
      ]
     },
     "execution_count": 41,
     "metadata": {},
     "output_type": "execute_result"
    }
   ],
   "source": [
    "X_train"
   ]
  },
  {
   "cell_type": "markdown",
   "metadata": {},
   "source": [
    "## Backpropagation"
   ]
  },
  {
   "cell_type": "code",
   "execution_count": 44,
   "metadata": {},
   "outputs": [
    {
     "data": {
      "text/plain": [
       "array([0.0594889 , 0.01372608, 0.01333713, 0.04523617, 0.0466088 ,\n",
       "       0.0607904 , 0.06029699, 0.07523499, 0.06916037, 0.07675707,\n",
       "       0.08375599, 0.09436052, 0.07240457, 0.03474453, 0.03772308,\n",
       "       0.02579192, 0.02485957, 0.03477803, 0.00376852, 0.02051529,\n",
       "       0.0466611 ])"
      ]
     },
     "execution_count": 44,
     "metadata": {},
     "output_type": "execute_result"
    }
   ],
   "source": [
    "from sklearn.neural_network import MLPClassifier\n",
    "\n",
    "clf = MLPClassifier(\n",
    "    random_state=random_state,\n",
    "    activation='logistic'\n",
    "    )\n",
    "clf.fit(X_train, y_train['prp_change_bin_label'])\n",
    "\n",
    "pred = clf.predict(X_test)\n",
    "prob = clf.predict_proba(X_test)\n",
    "# f1_score(y_test['prp_change_bin_label'], pred, average = 'micro')\n",
    "prob[1]\n"
   ]
  },
  {
   "cell_type": "code",
   "execution_count": 40,
   "metadata": {},
   "outputs": [
    {
     "data": {
      "text/plain": [
       "0.11713074203100438"
      ]
     },
     "execution_count": 40,
     "metadata": {},
     "output_type": "execute_result"
    }
   ],
   "source": [
    "from sklearn.neural_network import MLPRegressor\n",
    "\n",
    "reg = MLPRegressor(\n",
    "    random_state=random_state,\n",
    "    activation='logistic',\n",
    "\n",
    ")\n",
    "\n",
    "reg.fit(X_train, y_train['prp_change'])\n",
    "reg.score(X_test, y_test['prp_change'])"
   ]
  }
 ],
 "metadata": {
  "kernelspec": {
   "display_name": "Python 3.9.12 ('base')",
   "language": "python",
   "name": "python3"
  },
  "language_info": {
   "codemirror_mode": {
    "name": "ipython",
    "version": 3
   },
   "file_extension": ".py",
   "mimetype": "text/x-python",
   "name": "python",
   "nbconvert_exporter": "python",
   "pygments_lexer": "ipython3",
   "version": "3.9.12"
  },
  "orig_nbformat": 4,
  "vscode": {
   "interpreter": {
    "hash": "5ccfa51b6a2c575f9ec4b5f633399d96d9a08ae2d3de4a2b338c15ea2dbb5975"
   }
  }
 },
 "nbformat": 4,
 "nbformat_minor": 2
}
