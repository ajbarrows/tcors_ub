{
 "cells": [
  {
   "cell_type": "code",
   "execution_count": 51,
   "metadata": {},
   "outputs": [],
   "source": [
    "import pandas as pd\n",
    "import numpy as np\n",
    "import sys\n",
    "\n",
    "sys.path.insert(0, '../visualize/')\n",
    "sys.path.insert(0, '../models/')\n",
    "sys.path.insert(0, '../features/')\n",
    "\n",
    "from tcors_functions import *\n",
    "from build_features import *\n",
    "from counterprop import *\n",
    "from linear_regression import *\n",
    "from visualize import *\n",
    "\n",
    "from sklearn.preprocessing import MinMaxScaler\n",
    "from sklearn.model_selection import train_test_split, KFold\n",
    "from sklearn.metrics import f1_score\n",
    "\n",
    "random_state = 42\n",
    "\n",
    "bin_step = 0.1"
   ]
  },
  {
   "cell_type": "markdown",
   "metadata": {},
   "source": [
    "Prepare Data"
   ]
  },
  {
   "cell_type": "code",
   "execution_count": 52,
   "metadata": {},
   "outputs": [],
   "source": [
    "build_features(step = bin_step)"
   ]
  },
  {
   "cell_type": "code",
   "execution_count": 53,
   "metadata": {},
   "outputs": [
    {
     "data": {
      "text/html": [
       "<div>\n",
       "<style scoped>\n",
       "    .dataframe tbody tr th:only-of-type {\n",
       "        vertical-align: middle;\n",
       "    }\n",
       "\n",
       "    .dataframe tbody tr th {\n",
       "        vertical-align: top;\n",
       "    }\n",
       "\n",
       "    .dataframe thead th {\n",
       "        text-align: right;\n",
       "    }\n",
       "</style>\n",
       "<table border=\"1\" class=\"dataframe\">\n",
       "  <thead>\n",
       "    <tr style=\"text-align: right;\">\n",
       "      <th></th>\n",
       "      <th>screen_id</th>\n",
       "      <th>week</th>\n",
       "      <th>project</th>\n",
       "      <th>site</th>\n",
       "      <th>dose</th>\n",
       "      <th>screen_sex</th>\n",
       "      <th>screen_age</th>\n",
       "      <th>carmine_nicotine</th>\n",
       "      <th>prp_change</th>\n",
       "      <th>prp_change_bin</th>\n",
       "      <th>prp_change_bin_label</th>\n",
       "    </tr>\n",
       "  </thead>\n",
       "  <tbody>\n",
       "    <tr>\n",
       "      <th>37</th>\n",
       "      <td>J-A003</td>\n",
       "      <td>week12</td>\n",
       "      <td>project 1</td>\n",
       "      <td>uvm</td>\n",
       "      <td>15.8</td>\n",
       "      <td>Female</td>\n",
       "      <td>32</td>\n",
       "      <td>16.7</td>\n",
       "      <td>0.487500</td>\n",
       "      <td>(0.4, 0.5]</td>\n",
       "      <td>4</td>\n",
       "    </tr>\n",
       "    <tr>\n",
       "      <th>50</th>\n",
       "      <td>J-A004</td>\n",
       "      <td>week12</td>\n",
       "      <td>project 1</td>\n",
       "      <td>uvm</td>\n",
       "      <td>0.4</td>\n",
       "      <td>Female</td>\n",
       "      <td>38</td>\n",
       "      <td>15.9</td>\n",
       "      <td>0.725225</td>\n",
       "      <td>(0.7, 0.8]</td>\n",
       "      <td>7</td>\n",
       "    </tr>\n",
       "    <tr>\n",
       "      <th>76</th>\n",
       "      <td>J-A007</td>\n",
       "      <td>week12</td>\n",
       "      <td>project 1</td>\n",
       "      <td>uvm</td>\n",
       "      <td>15.8</td>\n",
       "      <td>Female</td>\n",
       "      <td>44</td>\n",
       "      <td>16.2</td>\n",
       "      <td>0.971223</td>\n",
       "      <td>(0.9, 1.0]</td>\n",
       "      <td>9</td>\n",
       "    </tr>\n",
       "    <tr>\n",
       "      <th>89</th>\n",
       "      <td>J-A010</td>\n",
       "      <td>week12</td>\n",
       "      <td>project 1</td>\n",
       "      <td>uvm</td>\n",
       "      <td>15.8</td>\n",
       "      <td>Female</td>\n",
       "      <td>28</td>\n",
       "      <td>15.8</td>\n",
       "      <td>0.895522</td>\n",
       "      <td>(0.8, 0.9]</td>\n",
       "      <td>8</td>\n",
       "    </tr>\n",
       "    <tr>\n",
       "      <th>117</th>\n",
       "      <td>J-A015</td>\n",
       "      <td>week12</td>\n",
       "      <td>project 1</td>\n",
       "      <td>uvm</td>\n",
       "      <td>15.8</td>\n",
       "      <td>Female</td>\n",
       "      <td>25</td>\n",
       "      <td>16.9</td>\n",
       "      <td>1.315152</td>\n",
       "      <td>(1.3, 1.4]</td>\n",
       "      <td>13</td>\n",
       "    </tr>\n",
       "  </tbody>\n",
       "</table>\n",
       "</div>"
      ],
      "text/plain": [
       "    screen_id    week    project site  dose screen_sex  screen_age  \\\n",
       "37     J-A003  week12  project 1  uvm  15.8     Female          32   \n",
       "50     J-A004  week12  project 1  uvm   0.4     Female          38   \n",
       "76     J-A007  week12  project 1  uvm  15.8     Female          44   \n",
       "89     J-A010  week12  project 1  uvm  15.8     Female          28   \n",
       "117    J-A015  week12  project 1  uvm  15.8     Female          25   \n",
       "\n",
       "     carmine_nicotine  prp_change prp_change_bin  prp_change_bin_label  \n",
       "37               16.7    0.487500     (0.4, 0.5]                     4  \n",
       "50               15.9    0.725225     (0.7, 0.8]                     7  \n",
       "76               16.2    0.971223     (0.9, 1.0]                     9  \n",
       "89               15.8    0.895522     (0.8, 0.9]                     8  \n",
       "117              16.9    1.315152     (1.3, 1.4]                    13  "
      ]
     },
     "execution_count": 53,
     "metadata": {},
     "output_type": "execute_result"
    }
   ],
   "source": [
    "df = load_features('model_features.pkl')\n",
    "df.head()"
   ]
  },
  {
   "cell_type": "code",
   "execution_count": 54,
   "metadata": {},
   "outputs": [
    {
     "data": {
      "text/plain": [
       "screen_id                 object\n",
       "week                      object\n",
       "project                   object\n",
       "site                      object\n",
       "dose                     float64\n",
       "screen_sex                object\n",
       "screen_age                 int64\n",
       "carmine_nicotine         float64\n",
       "prp_change               float64\n",
       "prp_change_bin          category\n",
       "prp_change_bin_label        int8\n",
       "dtype: object"
      ]
     },
     "execution_count": 54,
     "metadata": {},
     "output_type": "execute_result"
    }
   ],
   "source": [
    "df.dtypes"
   ]
  },
  {
   "cell_type": "code",
   "execution_count": 55,
   "metadata": {},
   "outputs": [
    {
     "data": {
      "image/png": "[encoded data removed]",
      "text/plain": [
       "<Figure size 432x288 with 1 Axes>"
      ]
     },
     "metadata": {
      "needs_background": "light"
     },
     "output_type": "display_data"
    }
   ],
   "source": [
    "sns.boxplot(\n",
    "    data = df,\n",
    "    x = 'dose',\n",
    "    y = 'prp_change'\n",
    ")\n",
    "plt.ylabel(\"Prop. Change in CPD from Baseline\")\n",
    "plt.xlabel(\"Treatment Group (Nicotine Dose mg/g)\")\n",
    "\n",
    "plt.savefig(\"../../reports/figures/prp_change_box.png\", dpi = 400, bbox_inches = 'tight')"
   ]
  },
  {
   "cell_type": "code",
   "execution_count": 56,
   "metadata": {},
   "outputs": [
    {
     "data": {
      "image/png": "[encoded data removed]",
      "text/plain": [
       "<Figure size 850.375x576 with 1 Axes>"
      ]
     },
     "metadata": {
      "needs_background": "light"
     },
     "output_type": "display_data"
    }
   ],
   "source": [
    "\n",
    "plot_bins(df)\n",
    "# plt.tight_layout()\n",
    "plt.savefig(\"../../reports/figures/prp_change.png\", dpi = 400, bbox_inches='tight')"
   ]
  },
  {
   "cell_type": "code",
   "execution_count": 57,
   "metadata": {},
   "outputs": [],
   "source": [
    "cat_targets = ['prp_change_bin_label']\n",
    "num_targets = ['prp_change']\n",
    "# cat_predictors = ['project', 'site', 'dose', 'screen_sex']\n",
    "num_predictors = ['screen_age', 'dose', 'project_num', 'sex_num', 'site_num', 'carmine_nicotine']\n",
    "num_predictors_withoutnic = num_predictors[:]\n",
    "num_predictors_withoutnic.remove('carmine_nicotine')\n",
    "\n",
    "  # create numeric versions of categorical variables\n",
    "df['project_num'] = df['project'].astype('category').cat.codes\n",
    "df['site_num'] = df['site'].astype('category').cat.codes\n",
    "df['sex_num'] = df['screen_sex'].astype('category').cat.codes\n",
    "\n",
    "def preprocessing(df, num_predictors, random_state):\n",
    "  \n",
    "    X = df[num_predictors]\n",
    "    y = df[cat_targets + num_targets]\n",
    "\n",
    "    X_train, X_test, y_train, y_test = train_test_split(X, y, test_size=0.2, random_state=random_state)\n",
    "\n",
    "    scaler = MinMaxScaler()\n",
    "    scaler.fit(X_train[num_predictors])\n",
    "\n",
    "    X_train[num_predictors] = scaler.transform(X_train[num_predictors])\n",
    "    X_test[num_predictors] = scaler.transform(X_test[num_predictors])\n",
    "\n",
    "    X_train_without_nic = X_train.copy()\n",
    "    X_test_without_nic = X_test.copy()\n",
    "\n",
    "    X_train_without_nic.drop(['carmine_nicotine'], axis=1, inplace=True)\n",
    "    X_test_without_nic.drop(['carmine_nicotine'], axis=1, inplace=True)\n",
    "\n",
    "    return X_train, X_test, X_train_without_nic, X_test_without_nic, y_train, y_test\n",
    "\n",
    "X_train, X_test, X_train_without_nic, X_test_without_nic, y_train, y_test = preprocessing(\n",
    "  df, num_predictors, random_state\n",
    "  )\n",
    "\n",
    "   "
   ]
  },
  {
   "cell_type": "code",
   "execution_count": 58,
   "metadata": {},
   "outputs": [
    {
     "data": {
      "text/html": [
       "<div>\n",
       "<style scoped>\n",
       "    .dataframe tbody tr th:only-of-type {\n",
       "        vertical-align: middle;\n",
       "    }\n",
       "\n",
       "    .dataframe tbody tr th {\n",
       "        vertical-align: top;\n",
       "    }\n",
       "\n",
       "    .dataframe thead th {\n",
       "        text-align: right;\n",
       "    }\n",
       "</style>\n",
       "<table border=\"1\" class=\"dataframe\">\n",
       "  <thead>\n",
       "    <tr style=\"text-align: right;\">\n",
       "      <th></th>\n",
       "      <th>screen_age</th>\n",
       "      <th>dose</th>\n",
       "      <th>project_num</th>\n",
       "      <th>sex_num</th>\n",
       "      <th>site_num</th>\n",
       "    </tr>\n",
       "  </thead>\n",
       "  <tbody>\n",
       "    <tr>\n",
       "      <th>6009</th>\n",
       "      <td>0.36</td>\n",
       "      <td>1.00000</td>\n",
       "      <td>1.0</td>\n",
       "      <td>0.0</td>\n",
       "      <td>1.0</td>\n",
       "    </tr>\n",
       "    <tr>\n",
       "      <th>6137</th>\n",
       "      <td>0.76</td>\n",
       "      <td>0.12987</td>\n",
       "      <td>1.0</td>\n",
       "      <td>1.0</td>\n",
       "      <td>0.0</td>\n",
       "    </tr>\n",
       "    <tr>\n",
       "      <th>3371</th>\n",
       "      <td>0.20</td>\n",
       "      <td>0.12987</td>\n",
       "      <td>0.5</td>\n",
       "      <td>0.0</td>\n",
       "      <td>1.0</td>\n",
       "    </tr>\n",
       "    <tr>\n",
       "      <th>5191</th>\n",
       "      <td>0.08</td>\n",
       "      <td>0.00000</td>\n",
       "      <td>1.0</td>\n",
       "      <td>1.0</td>\n",
       "      <td>1.0</td>\n",
       "    </tr>\n",
       "    <tr>\n",
       "      <th>8731</th>\n",
       "      <td>0.68</td>\n",
       "      <td>0.12987</td>\n",
       "      <td>0.5</td>\n",
       "      <td>1.0</td>\n",
       "      <td>0.5</td>\n",
       "    </tr>\n",
       "    <tr>\n",
       "      <th>...</th>\n",
       "      <td>...</td>\n",
       "      <td>...</td>\n",
       "      <td>...</td>\n",
       "      <td>...</td>\n",
       "      <td>...</td>\n",
       "    </tr>\n",
       "    <tr>\n",
       "      <th>2200</th>\n",
       "      <td>0.24</td>\n",
       "      <td>0.12987</td>\n",
       "      <td>0.5</td>\n",
       "      <td>1.0</td>\n",
       "      <td>1.0</td>\n",
       "    </tr>\n",
       "    <tr>\n",
       "      <th>5165</th>\n",
       "      <td>0.58</td>\n",
       "      <td>0.12987</td>\n",
       "      <td>1.0</td>\n",
       "      <td>0.0</td>\n",
       "      <td>1.0</td>\n",
       "    </tr>\n",
       "    <tr>\n",
       "      <th>6455</th>\n",
       "      <td>0.74</td>\n",
       "      <td>0.00000</td>\n",
       "      <td>1.0</td>\n",
       "      <td>1.0</td>\n",
       "      <td>0.0</td>\n",
       "    </tr>\n",
       "    <tr>\n",
       "      <th>7883</th>\n",
       "      <td>0.40</td>\n",
       "      <td>1.00000</td>\n",
       "      <td>0.0</td>\n",
       "      <td>0.0</td>\n",
       "      <td>0.5</td>\n",
       "    </tr>\n",
       "    <tr>\n",
       "      <th>2146</th>\n",
       "      <td>0.30</td>\n",
       "      <td>0.12987</td>\n",
       "      <td>0.5</td>\n",
       "      <td>0.0</td>\n",
       "      <td>1.0</td>\n",
       "    </tr>\n",
       "  </tbody>\n",
       "</table>\n",
       "<p>410 rows × 5 columns</p>\n",
       "</div>"
      ],
      "text/plain": [
       "      screen_age     dose  project_num  sex_num  site_num\n",
       "6009        0.36  1.00000          1.0      0.0       1.0\n",
       "6137        0.76  0.12987          1.0      1.0       0.0\n",
       "3371        0.20  0.12987          0.5      0.0       1.0\n",
       "5191        0.08  0.00000          1.0      1.0       1.0\n",
       "8731        0.68  0.12987          0.5      1.0       0.5\n",
       "...          ...      ...          ...      ...       ...\n",
       "2200        0.24  0.12987          0.5      1.0       1.0\n",
       "5165        0.58  0.12987          1.0      0.0       1.0\n",
       "6455        0.74  0.00000          1.0      1.0       0.0\n",
       "7883        0.40  1.00000          0.0      0.0       0.5\n",
       "2146        0.30  0.12987          0.5      0.0       1.0\n",
       "\n",
       "[410 rows x 5 columns]"
      ]
     },
     "execution_count": 58,
     "metadata": {},
     "output_type": "execute_result"
    }
   ],
   "source": [
    "X_train_without_nic"
   ]
  },
  {
   "cell_type": "code",
   "execution_count": 59,
   "metadata": {},
   "outputs": [
    {
     "data": {
      "text/plain": [
       "6009    1.791045\n",
       "6137    0.623762\n",
       "3371    0.913043\n",
       "5191    0.367213\n",
       "8731    2.920000\n",
       "          ...   \n",
       "2200    0.586207\n",
       "5165    0.652273\n",
       "6455    1.065217\n",
       "7883    0.436137\n",
       "2146    0.828571\n",
       "Name: prp_change, Length: 410, dtype: float64"
      ]
     },
     "execution_count": 59,
     "metadata": {},
     "output_type": "execute_result"
    }
   ],
   "source": [
    "y_train['prp_change']"
   ]
  },
  {
   "cell_type": "markdown",
   "metadata": {},
   "source": [
    "## Linear Regression"
   ]
  },
  {
   "cell_type": "code",
   "execution_count": 60,
   "metadata": {},
   "outputs": [],
   "source": [
    "without_nic = fit_linear(\n",
    "    X_train_without_nic,\n",
    "    X_test_without_nic,\n",
    "    y_train[['prp_change']],\n",
    "    y_test[['prp_change']],\n",
    "    bin_step = bin_step,\n",
    "    random_state=random_state\n",
    ")\n",
    "\n",
    "with_nic = fit_linear(\n",
    "    X_train,\n",
    "    X_test,\n",
    "    y_train[['prp_change']],\n",
    "    y_test[['prp_change']],\n",
    "    bin_step = bin_step,\n",
    "    random_state=random_state\n",
    ")"
   ]
  },
  {
   "cell_type": "markdown",
   "metadata": {},
   "source": [
    "Performance when treated as a regression"
   ]
  },
  {
   "cell_type": "code",
   "execution_count": 61,
   "metadata": {},
   "outputs": [
    {
     "data": {
      "text/html": [
       "<div>\n",
       "<style scoped>\n",
       "    .dataframe tbody tr th:only-of-type {\n",
       "        vertical-align: middle;\n",
       "    }\n",
       "\n",
       "    .dataframe tbody tr th {\n",
       "        vertical-align: top;\n",
       "    }\n",
       "\n",
       "    .dataframe thead th {\n",
       "        text-align: right;\n",
       "    }\n",
       "</style>\n",
       "<table border=\"1\" class=\"dataframe\">\n",
       "  <thead>\n",
       "    <tr style=\"text-align: right;\">\n",
       "      <th></th>\n",
       "      <th>mean_cv_r2</th>\n",
       "      <th>sd_cv_r2</th>\n",
       "      <th>test_r2</th>\n",
       "      <th>label</th>\n",
       "      <th>model</th>\n",
       "    </tr>\n",
       "  </thead>\n",
       "  <tbody>\n",
       "    <tr>\n",
       "      <th>1</th>\n",
       "      <td>0.083358</td>\n",
       "      <td>0.075021</td>\n",
       "      <td>0.139511</td>\n",
       "      <td>without_nic</td>\n",
       "      <td>linear_model</td>\n",
       "    </tr>\n",
       "    <tr>\n",
       "      <th>1</th>\n",
       "      <td>0.074846</td>\n",
       "      <td>0.075885</td>\n",
       "      <td>0.092326</td>\n",
       "      <td>with_nic</td>\n",
       "      <td>linear_model</td>\n",
       "    </tr>\n",
       "  </tbody>\n",
       "</table>\n",
       "</div>"
      ],
      "text/plain": [
       "   mean_cv_r2  sd_cv_r2   test_r2        label         model\n",
       "1    0.083358  0.075021  0.139511  without_nic  linear_model\n",
       "1    0.074846  0.075885  0.092326     with_nic  linear_model"
      ]
     },
     "execution_count": 61,
     "metadata": {},
     "output_type": "execute_result"
    }
   ],
   "source": [
    "wo_nic_avg = without_nic.avg_scores\n",
    "wo_nic_avg['label'] = 'without_nic'\n",
    "\n",
    "w_nic_avg = with_nic.avg_scores\n",
    "w_nic_avg['label'] = 'with_nic'\n",
    "\n",
    "lm_r2 = pd.concat([wo_nic_avg, w_nic_avg])\n",
    "lm_r2['model'] = 'linear_model'\n",
    "\n",
    "lm_r2"
   ]
  },
  {
   "cell_type": "code",
   "execution_count": 62,
   "metadata": {},
   "outputs": [],
   "source": [
    "import statsmodels.api as sma\n",
    "\n",
    "X1 = sma.add_constant(X_train_without_nic)\n",
    "X2 = sma.add_constant(X_train)\n",
    "\n",
    "wo_nic_sm = sma.OLS(y_train[['prp_change']], X1).fit()\n",
    "w_nic_sm = sma.OLS(y_train[['prp_change']], X2).fit()"
   ]
  },
  {
   "cell_type": "code",
   "execution_count": 63,
   "metadata": {},
   "outputs": [
    {
     "data": {
      "text/html": [
       "<table class=\"simpletable\">\n",
       "<caption>OLS Regression Results</caption>\n",
       "<tr>\n",
       "  <th>Dep. Variable:</th>       <td>prp_change</td>    <th>  R-squared:         </th> <td>   0.119</td>\n",
       "</tr>\n",
       "<tr>\n",
       "  <th>Model:</th>                   <td>OLS</td>       <th>  Adj. R-squared:    </th> <td>   0.108</td>\n",
       "</tr>\n",
       "<tr>\n",
       "  <th>Method:</th>             <td>Least Squares</td>  <th>  F-statistic:       </th> <td>   10.87</td>\n",
       "</tr>\n",
       "<tr>\n",
       "  <th>Date:</th>             <td>Mon, 05 Dec 2022</td> <th>  Prob (F-statistic):</th> <td>7.92e-10</td>\n",
       "</tr>\n",
       "<tr>\n",
       "  <th>Time:</th>                 <td>11:05:31</td>     <th>  Log-Likelihood:    </th> <td> -346.04</td>\n",
       "</tr>\n",
       "<tr>\n",
       "  <th>No. Observations:</th>      <td>   410</td>      <th>  AIC:               </th> <td>   704.1</td>\n",
       "</tr>\n",
       "<tr>\n",
       "  <th>Df Residuals:</th>          <td>   404</td>      <th>  BIC:               </th> <td>   728.2</td>\n",
       "</tr>\n",
       "<tr>\n",
       "  <th>Df Model:</th>              <td>     5</td>      <th>                     </th>     <td> </td>   \n",
       "</tr>\n",
       "<tr>\n",
       "  <th>Covariance Type:</th>      <td>nonrobust</td>    <th>                     </th>     <td> </td>   \n",
       "</tr>\n",
       "</table>\n",
       "<table class=\"simpletable\">\n",
       "<tr>\n",
       "       <td></td>          <th>coef</th>     <th>std err</th>      <th>t</th>      <th>P>|t|</th>  <th>[0.025</th>    <th>0.975]</th>  \n",
       "</tr>\n",
       "<tr>\n",
       "  <th>const</th>       <td>    0.6653</td> <td>    0.109</td> <td>    6.098</td> <td> 0.000</td> <td>    0.451</td> <td>    0.880</td>\n",
       "</tr>\n",
       "<tr>\n",
       "  <th>screen_age</th>  <td>    0.5823</td> <td>    0.141</td> <td>    4.139</td> <td> 0.000</td> <td>    0.306</td> <td>    0.859</td>\n",
       "</tr>\n",
       "<tr>\n",
       "  <th>dose</th>        <td>    0.3615</td> <td>    0.063</td> <td>    5.715</td> <td> 0.000</td> <td>    0.237</td> <td>    0.486</td>\n",
       "</tr>\n",
       "<tr>\n",
       "  <th>project_num</th> <td>   -0.0040</td> <td>    0.076</td> <td>   -0.053</td> <td> 0.958</td> <td>   -0.154</td> <td>    0.146</td>\n",
       "</tr>\n",
       "<tr>\n",
       "  <th>sex_num</th>     <td>    0.0266</td> <td>    0.066</td> <td>    0.404</td> <td> 0.687</td> <td>   -0.103</td> <td>    0.156</td>\n",
       "</tr>\n",
       "<tr>\n",
       "  <th>site_num</th>    <td>    0.0191</td> <td>    0.087</td> <td>    0.219</td> <td> 0.827</td> <td>   -0.152</td> <td>    0.190</td>\n",
       "</tr>\n",
       "</table>\n",
       "<table class=\"simpletable\">\n",
       "<tr>\n",
       "  <th>Omnibus:</th>       <td>132.923</td> <th>  Durbin-Watson:     </th> <td>   1.979</td> \n",
       "</tr>\n",
       "<tr>\n",
       "  <th>Prob(Omnibus):</th> <td> 0.000</td>  <th>  Jarque-Bera (JB):  </th> <td> 493.993</td> \n",
       "</tr>\n",
       "<tr>\n",
       "  <th>Skew:</th>          <td> 1.419</td>  <th>  Prob(JB):          </th> <td>5.38e-108</td>\n",
       "</tr>\n",
       "<tr>\n",
       "  <th>Kurtosis:</th>      <td> 7.567</td>  <th>  Cond. No.          </th> <td>    9.23</td> \n",
       "</tr>\n",
       "</table><br/><br/>Notes:<br/>[1] Standard Errors assume that the covariance matrix of the errors is correctly specified."
      ],
      "text/plain": [
       "<class 'statsmodels.iolib.summary.Summary'>\n",
       "\"\"\"\n",
       "                            OLS Regression Results                            \n",
       "==============================================================================\n",
       "Dep. Variable:             prp_change   R-squared:                       0.119\n",
       "Model:                            OLS   Adj. R-squared:                  0.108\n",
       "Method:                 Least Squares   F-statistic:                     10.87\n",
       "Date:                Mon, 05 Dec 2022   Prob (F-statistic):           7.92e-10\n",
       "Time:                        11:05:31   Log-Likelihood:                -346.04\n",
       "No. Observations:                 410   AIC:                             704.1\n",
       "Df Residuals:                     404   BIC:                             728.2\n",
       "Df Model:                           5                                         \n",
       "Covariance Type:            nonrobust                                         \n",
       "===============================================================================\n",
       "                  coef    std err          t      P>|t|      [0.025      0.975]\n",
       "-------------------------------------------------------------------------------\n",
       "const           0.6653      0.109      6.098      0.000       0.451       0.880\n",
       "screen_age      0.5823      0.141      4.139      0.000       0.306       0.859\n",
       "dose            0.3615      0.063      5.715      0.000       0.237       0.486\n",
       "project_num    -0.0040      0.076     -0.053      0.958      -0.154       0.146\n",
       "sex_num         0.0266      0.066      0.404      0.687      -0.103       0.156\n",
       "site_num        0.0191      0.087      0.219      0.827      -0.152       0.190\n",
       "==============================================================================\n",
       "Omnibus:                      132.923   Durbin-Watson:                   1.979\n",
       "Prob(Omnibus):                  0.000   Jarque-Bera (JB):              493.993\n",
       "Skew:                           1.419   Prob(JB):                    5.38e-108\n",
       "Kurtosis:                       7.567   Cond. No.                         9.23\n",
       "==============================================================================\n",
       "\n",
       "Notes:\n",
       "[1] Standard Errors assume that the covariance matrix of the errors is correctly specified.\n",
       "\"\"\""
      ]
     },
     "execution_count": 63,
     "metadata": {},
     "output_type": "execute_result"
    }
   ],
   "source": [
    "wo_nic_sm.summary()"
   ]
  },
  {
   "cell_type": "code",
   "execution_count": 64,
   "metadata": {},
   "outputs": [
    {
     "data": {
      "text/html": [
       "<table class=\"simpletable\">\n",
       "<caption>OLS Regression Results</caption>\n",
       "<tr>\n",
       "  <th>Dep. Variable:</th>       <td>prp_change</td>    <th>  R-squared:         </th> <td>   0.128</td>\n",
       "</tr>\n",
       "<tr>\n",
       "  <th>Model:</th>                   <td>OLS</td>       <th>  Adj. R-squared:    </th> <td>   0.115</td>\n",
       "</tr>\n",
       "<tr>\n",
       "  <th>Method:</th>             <td>Least Squares</td>  <th>  F-statistic:       </th> <td>   9.837</td>\n",
       "</tr>\n",
       "<tr>\n",
       "  <th>Date:</th>             <td>Mon, 05 Dec 2022</td> <th>  Prob (F-statistic):</th> <td>3.94e-10</td>\n",
       "</tr>\n",
       "<tr>\n",
       "  <th>Time:</th>                 <td>11:05:31</td>     <th>  Log-Likelihood:    </th> <td> -343.90</td>\n",
       "</tr>\n",
       "<tr>\n",
       "  <th>No. Observations:</th>      <td>   410</td>      <th>  AIC:               </th> <td>   701.8</td>\n",
       "</tr>\n",
       "<tr>\n",
       "  <th>Df Residuals:</th>          <td>   403</td>      <th>  BIC:               </th> <td>   729.9</td>\n",
       "</tr>\n",
       "<tr>\n",
       "  <th>Df Model:</th>              <td>     6</td>      <th>                     </th>     <td> </td>   \n",
       "</tr>\n",
       "<tr>\n",
       "  <th>Covariance Type:</th>      <td>nonrobust</td>    <th>                     </th>     <td> </td>   \n",
       "</tr>\n",
       "</table>\n",
       "<table class=\"simpletable\">\n",
       "<tr>\n",
       "          <td></td>            <th>coef</th>     <th>std err</th>      <th>t</th>      <th>P>|t|</th>  <th>[0.025</th>    <th>0.975]</th>  \n",
       "</tr>\n",
       "<tr>\n",
       "  <th>const</th>            <td>    0.5095</td> <td>    0.132</td> <td>    3.845</td> <td> 0.000</td> <td>    0.249</td> <td>    0.770</td>\n",
       "</tr>\n",
       "<tr>\n",
       "  <th>screen_age</th>       <td>    0.5856</td> <td>    0.140</td> <td>    4.179</td> <td> 0.000</td> <td>    0.310</td> <td>    0.861</td>\n",
       "</tr>\n",
       "<tr>\n",
       "  <th>dose</th>             <td>    0.3658</td> <td>    0.063</td> <td>    5.803</td> <td> 0.000</td> <td>    0.242</td> <td>    0.490</td>\n",
       "</tr>\n",
       "<tr>\n",
       "  <th>project_num</th>      <td>   -0.0016</td> <td>    0.076</td> <td>   -0.021</td> <td> 0.983</td> <td>   -0.151</td> <td>    0.147</td>\n",
       "</tr>\n",
       "<tr>\n",
       "  <th>sex_num</th>          <td>    0.0349</td> <td>    0.066</td> <td>    0.531</td> <td> 0.596</td> <td>   -0.094</td> <td>    0.164</td>\n",
       "</tr>\n",
       "<tr>\n",
       "  <th>site_num</th>         <td>    0.0443</td> <td>    0.088</td> <td>    0.506</td> <td> 0.613</td> <td>   -0.128</td> <td>    0.217</td>\n",
       "</tr>\n",
       "<tr>\n",
       "  <th>carmine_nicotine</th> <td>    0.4791</td> <td>    0.233</td> <td>    2.056</td> <td> 0.040</td> <td>    0.021</td> <td>    0.937</td>\n",
       "</tr>\n",
       "</table>\n",
       "<table class=\"simpletable\">\n",
       "<tr>\n",
       "  <th>Omnibus:</th>       <td>121.348</td> <th>  Durbin-Watson:     </th> <td>   1.988</td>\n",
       "</tr>\n",
       "<tr>\n",
       "  <th>Prob(Omnibus):</th> <td> 0.000</td>  <th>  Jarque-Bera (JB):  </th> <td> 400.639</td>\n",
       "</tr>\n",
       "<tr>\n",
       "  <th>Skew:</th>          <td> 1.332</td>  <th>  Prob(JB):          </th> <td>1.01e-87</td>\n",
       "</tr>\n",
       "<tr>\n",
       "  <th>Kurtosis:</th>      <td> 7.045</td>  <th>  Cond. No.          </th> <td>    13.7</td>\n",
       "</tr>\n",
       "</table><br/><br/>Notes:<br/>[1] Standard Errors assume that the covariance matrix of the errors is correctly specified."
      ],
      "text/plain": [
       "<class 'statsmodels.iolib.summary.Summary'>\n",
       "\"\"\"\n",
       "                            OLS Regression Results                            \n",
       "==============================================================================\n",
       "Dep. Variable:             prp_change   R-squared:                       0.128\n",
       "Model:                            OLS   Adj. R-squared:                  0.115\n",
       "Method:                 Least Squares   F-statistic:                     9.837\n",
       "Date:                Mon, 05 Dec 2022   Prob (F-statistic):           3.94e-10\n",
       "Time:                        11:05:31   Log-Likelihood:                -343.90\n",
       "No. Observations:                 410   AIC:                             701.8\n",
       "Df Residuals:                     403   BIC:                             729.9\n",
       "Df Model:                           6                                         \n",
       "Covariance Type:            nonrobust                                         \n",
       "====================================================================================\n",
       "                       coef    std err          t      P>|t|      [0.025      0.975]\n",
       "------------------------------------------------------------------------------------\n",
       "const                0.5095      0.132      3.845      0.000       0.249       0.770\n",
       "screen_age           0.5856      0.140      4.179      0.000       0.310       0.861\n",
       "dose                 0.3658      0.063      5.803      0.000       0.242       0.490\n",
       "project_num         -0.0016      0.076     -0.021      0.983      -0.151       0.147\n",
       "sex_num              0.0349      0.066      0.531      0.596      -0.094       0.164\n",
       "site_num             0.0443      0.088      0.506      0.613      -0.128       0.217\n",
       "carmine_nicotine     0.4791      0.233      2.056      0.040       0.021       0.937\n",
       "==============================================================================\n",
       "Omnibus:                      121.348   Durbin-Watson:                   1.988\n",
       "Prob(Omnibus):                  0.000   Jarque-Bera (JB):              400.639\n",
       "Skew:                           1.332   Prob(JB):                     1.01e-87\n",
       "Kurtosis:                       7.045   Cond. No.                         13.7\n",
       "==============================================================================\n",
       "\n",
       "Notes:\n",
       "[1] Standard Errors assume that the covariance matrix of the errors is correctly specified.\n",
       "\"\"\""
      ]
     },
     "execution_count": 64,
     "metadata": {},
     "output_type": "execute_result"
    }
   ],
   "source": [
    "w_nic_sm.summary()"
   ]
  },
  {
   "cell_type": "markdown",
   "metadata": {},
   "source": [
    "Performance when treated as a classifier"
   ]
  },
  {
   "cell_type": "code",
   "execution_count": 65,
   "metadata": {},
   "outputs": [
    {
     "data": {
      "text/html": [
       "<div>\n",
       "<style scoped>\n",
       "    .dataframe tbody tr th:only-of-type {\n",
       "        vertical-align: middle;\n",
       "    }\n",
       "\n",
       "    .dataframe tbody tr th {\n",
       "        vertical-align: top;\n",
       "    }\n",
       "\n",
       "    .dataframe thead th {\n",
       "        text-align: right;\n",
       "    }\n",
       "</style>\n",
       "<table border=\"1\" class=\"dataframe\">\n",
       "  <thead>\n",
       "    <tr style=\"text-align: right;\">\n",
       "      <th></th>\n",
       "      <th>f1</th>\n",
       "      <th>label</th>\n",
       "      <th>model</th>\n",
       "    </tr>\n",
       "  </thead>\n",
       "  <tbody>\n",
       "    <tr>\n",
       "      <th>0</th>\n",
       "      <td>0.106796</td>\n",
       "      <td>without_nic</td>\n",
       "      <td>linear_model*</td>\n",
       "    </tr>\n",
       "    <tr>\n",
       "      <th>1</th>\n",
       "      <td>0.116505</td>\n",
       "      <td>with_nic</td>\n",
       "      <td>linear_model*</td>\n",
       "    </tr>\n",
       "  </tbody>\n",
       "</table>\n",
       "</div>"
      ],
      "text/plain": [
       "         f1        label          model\n",
       "0  0.106796  without_nic  linear_model*\n",
       "1  0.116505     with_nic  linear_model*"
      ]
     },
     "execution_count": 65,
     "metadata": {},
     "output_type": "execute_result"
    }
   ],
   "source": [
    "lm_f1 = pd.DataFrame(\n",
    "    {\n",
    "        \"f1\" : [without_nic.clf_mets, with_nic.clf_mets],\n",
    "        \"label\" : [\"without_nic\", \"with_nic\"],\n",
    "        \"model\" : ['linear_model*', 'linear_model*']\n",
    "    }\n",
    ")\n",
    "lm_f1\n"
   ]
  },
  {
   "cell_type": "code",
   "execution_count": 66,
   "metadata": {},
   "outputs": [
    {
     "data": {
      "image/png": "[encoded data removed]",
      "text/plain": [
       "<Figure size 453.25x360 with 1 Axes>"
      ]
     },
     "metadata": {
      "needs_background": "light"
     },
     "output_type": "display_data"
    }
   ],
   "source": [
    "clf_plt(lm_f1)\n",
    "plt.savefig(fname = \"../../reports/figures/clf_perf_onemtd.png\", dpi = 300, bbox_inches='tight')"
   ]
  },
  {
   "cell_type": "markdown",
   "metadata": {},
   "source": [
    "## Counter-Propagation  "
   ]
  },
  {
   "cell_type": "markdown",
   "metadata": {},
   "source": [
    "Cross Validation    "
   ]
  },
  {
   "cell_type": "code",
   "execution_count": 67,
   "metadata": {},
   "outputs": [],
   "source": [
    "def counterprp_fit_predict(\n",
    "        X_train: np.array, X_test: np.array, \n",
    "        y_train_onehot: np.array, y_test_onehot: np.array, \n",
    "        y_test_labels: pd.Series, random_init=False,\n",
    "        epochs=25):\n",
    "\n",
    "    mod = train_model(\n",
    "        X_train, \n",
    "        y_train_onehot,\n",
    "        random_init=random_init, \n",
    "        n_hidden = len(X_train), \n",
    "        epochs=25\n",
    "        )\n",
    "    pred1 = predict_model(np.array(X_test), y_test_onehot, mod.pass1_weights)\n",
    "    pred2 = predict_model(np.array(X_test), y_test_onehot, mod.pass2_weights)   \n",
    "\n",
    "    f1_pred1 = f1_score(y_test_labels, pred1.predict_cat, average = 'micro')\n",
    "    f1_pred2 = f1_score(y_test_labels, pred2.predict_cat, average = 'micro')\n",
    "\n",
    "    result = namedtuple(\"result\", [\"pred1\", \"pred2\", \"f1_pred1\", \"f1_pred2\", \"rmse\"])\n",
    "\n",
    "    return result(pred1, pred2, f1_pred1, f1_pred2, mod.rmse_values)\n",
    "\n",
    "def cv_counterprop(X_train_array, y_train_onehot, y_labels, model=\"fixed_w1\", random_init=False, cv=5):\n",
    "    kf = KFold(n_splits=cv)\n",
    "\n",
    "    pred1 = []\n",
    "    pred2 = []\n",
    "    f1_pred1 = []\n",
    "    f1_pred2 = []\n",
    "    rmse_vals = {}\n",
    "\n",
    "    s = 1\n",
    "    for train_index, test_index in kf.split(X_train_array):\n",
    "        X_train = X_train_array[train_index]\n",
    "        X_test = X_train_array[test_index]\n",
    "\n",
    "        y_train = y_train_onehot[train_index]\n",
    "        y_test = y_train_onehot[test_index]\n",
    "\n",
    "        y_labs = y_labels[test_index]\n",
    "\n",
    "        fit = counterprp_fit_predict(X_train, X_test, y_train, y_test, y_labs, random_init=random_init)\n",
    "        pred1.append(fit.pred1)\n",
    "        pred2.append(fit.pred2)\n",
    "        f1_pred1.append(fit.f1_pred1)\n",
    "        f1_pred2.append(fit.f1_pred2)\n",
    "\n",
    "        rmse_vals[s] = fit.rmse\n",
    "        s += 1\n",
    "\n",
    "    # gather cv prediction metrics\n",
    "    p2 = {\n",
    "        \"mean_cv_f1\" : np.mean(f1_pred2), \n",
    "        \"mean_cv_std\" : np.std(f1_pred2),\n",
    "        \"model\" : model\n",
    "    }\n",
    "\n",
    "    # metrics_df = pd.concat([pd.DataFrame(p1, index = [1]), pd.DataFrame(p2, index = [1])])\n",
    "    metrics_df = pd.DataFrame(p2, index = [1])\n",
    "\n",
    "    cv_res = namedtuple(\"cv_res\", ['pred1', 'pred2', 'f1_pred1', 'f1_pred2', 'rmse_vals', 'metrics_df'])\n",
    "\n",
    "    return cv_res(\n",
    "        pred1,\n",
    "        pred2,\n",
    "        f1_pred1,\n",
    "        f1_pred2,\n",
    "        rmse_vals,\n",
    "        metrics_df\n",
    "    )"
   ]
  },
  {
   "cell_type": "markdown",
   "metadata": {},
   "source": [
    "Without Nicotine   "
   ]
  },
  {
   "cell_type": "code",
   "execution_count": 68,
   "metadata": {},
   "outputs": [],
   "source": [
    "y_train_onehot = onehot_output(y_train['prp_change_bin_label'])\n",
    "y_test_onehot = onehot_output(y_test['prp_change_bin_label'])\n",
    "y_train_labels = np.array(y_train['prp_change_bin_label'].reset_index())[:, 1]\n",
    "y_test_labels = np.array(y_test['prp_change_bin_label'].reset_index())[:, 1]\n",
    "\n",
    "X_train_array = np.array(X_train_without_nic)\n",
    "X_test_array = np.array(X_test_without_nic)\n",
    "\n",
    "# fixed initialization\n",
    "cv_fixed_nonic = cv_counterprop(X_train_array, y_train_onehot, y_train_labels, model='fixed_w1', random_init=False)\n",
    "\n",
    "# random initialization\n",
    "cv_random_nonic = cv_counterprop(X_train_array, y_train_onehot, y_train_labels, model='free_w1', random_init=True)\n"
   ]
  },
  {
   "cell_type": "code",
   "execution_count": 69,
   "metadata": {},
   "outputs": [
    {
     "data": {
      "text/html": [
       "<div>\n",
       "<style scoped>\n",
       "    .dataframe tbody tr th:only-of-type {\n",
       "        vertical-align: middle;\n",
       "    }\n",
       "\n",
       "    .dataframe tbody tr th {\n",
       "        vertical-align: top;\n",
       "    }\n",
       "\n",
       "    .dataframe thead th {\n",
       "        text-align: right;\n",
       "    }\n",
       "</style>\n",
       "<table border=\"1\" class=\"dataframe\">\n",
       "  <thead>\n",
       "    <tr style=\"text-align: right;\">\n",
       "      <th></th>\n",
       "      <th>mean_cv_f1</th>\n",
       "      <th>mean_cv_std</th>\n",
       "      <th>model</th>\n",
       "    </tr>\n",
       "  </thead>\n",
       "  <tbody>\n",
       "    <tr>\n",
       "      <th>1</th>\n",
       "      <td>0.060976</td>\n",
       "      <td>0.010908</td>\n",
       "      <td>fixed_w1</td>\n",
       "    </tr>\n",
       "    <tr>\n",
       "      <th>1</th>\n",
       "      <td>0.075610</td>\n",
       "      <td>0.026042</td>\n",
       "      <td>free_w1</td>\n",
       "    </tr>\n",
       "  </tbody>\n",
       "</table>\n",
       "</div>"
      ],
      "text/plain": [
       "   mean_cv_f1  mean_cv_std     model\n",
       "1    0.060976     0.010908  fixed_w1\n",
       "1    0.075610     0.026042   free_w1"
      ]
     },
     "execution_count": 69,
     "metadata": {},
     "output_type": "execute_result"
    }
   ],
   "source": [
    "\n",
    "pd.concat([cv_fixed_nonic.metrics_df, cv_random_nonic.metrics_df])"
   ]
  },
  {
   "cell_type": "code",
   "execution_count": 70,
   "metadata": {},
   "outputs": [],
   "source": [
    "fixed = pd.DataFrame(cv_fixed_nonic.rmse_vals)\n",
    "random = pd.DataFrame(cv_random_nonic.rmse_vals)\n",
    "fixed['model'] = 'fixed'\n",
    "random['model'] = 'random'\n",
    "\n",
    "rmse_nonic = pd.concat([fixed, random], axis=0)"
   ]
  },
  {
   "cell_type": "code",
   "execution_count": 71,
   "metadata": {},
   "outputs": [
    {
     "data": {
      "image/png": "[encoded data removed]",
      "text/plain": [
       "<Figure size 762.375x360 with 2 Axes>"
      ]
     },
     "metadata": {
      "needs_background": "light"
     },
     "output_type": "display_data"
    }
   ],
   "source": [
    "def rmse_cv(rmse_df, title=None):\n",
    "    # rmse_df = pd.DataFrame(rmse_dict)\n",
    "    rmse_df = pd.melt(rmse_df, id_vars='model', var_name='fold', value_name='rmse')\n",
    "    rmse_df['epoch'] = rmse_df.groupby(['model', 'fold']).cumcount()\n",
    "\n",
    "    g = sns.relplot(\n",
    "        data=rmse_df,\n",
    "        x = \"epoch\",\n",
    "        y = \"rmse\",\n",
    "        hue = \"fold\",\n",
    "        col = \"model\",\n",
    "        kind = \"line\"\n",
    "    )\n",
    "    # g.set_axis_labels(\"\", \"Survival Rate\")\n",
    "    # g.set_xticklabels([\"Men\", \"Women\", \"Children\"])\n",
    "    g.set_titles(\"{col_name} {col_var}\")\n",
    "    # g.set(ylim=(0, 1))\n",
    "    g.despine(left=True)\n",
    "\n",
    "    g.fig.subplots_adjust(top=0.8)\n",
    "    g.fig.suptitle(title)\n",
    "\n",
    "rmse_cv(rmse_nonic, \"Cross-Validated CProp Training: Without Nicotine\")\n",
    "plt.savefig(\"../../reports/figures/counterprop_cv_nonic.png\", dpi = 300)\n"
   ]
  },
  {
   "cell_type": "code",
   "execution_count": 72,
   "metadata": {},
   "outputs": [
    {
     "data": {
      "text/plain": [
       "0.06796116504854369"
      ]
     },
     "execution_count": 72,
     "metadata": {},
     "output_type": "execute_result"
    }
   ],
   "source": [
    "preds_nonic_fixed = counterprp_fit_predict(\n",
    "    X_train_array,\n",
    "    X_test_array,\n",
    "    y_train_onehot,\n",
    "    y_test_onehot,\n",
    "    y_test_labels)\n",
    "\n",
    "preds_nonic_fixed.f1_pred2"
   ]
  },
  {
   "cell_type": "code",
   "execution_count": 79,
   "metadata": {},
   "outputs": [
    {
     "data": {
      "text/plain": [
       "0.05825242718446602"
      ]
     },
     "execution_count": 79,
     "metadata": {},
     "output_type": "execute_result"
    }
   ],
   "source": [
    "preds_nonic_random = counterprp_fit_predict(\n",
    "    X_train_array,\n",
    "    X_test_array,\n",
    "    y_train_onehot,\n",
    "    y_test_onehot,\n",
    "    y_test_labels,\n",
    "    random_init=True)\n",
    "    \n",
    "preds_nonic_random.f1_pred2"
   ]
  },
  {
   "cell_type": "markdown",
   "metadata": {},
   "source": [
    "With Nicotine"
   ]
  },
  {
   "cell_type": "code",
   "execution_count": 73,
   "metadata": {},
   "outputs": [
    {
     "data": {
      "image/png": "[encoded data removed]",
      "text/plain": [
       "<Figure size 762.375x360 with 2 Axes>"
      ]
     },
     "metadata": {
      "needs_background": "light"
     },
     "output_type": "display_data"
    }
   ],
   "source": [
    "X_train_array = np.array(X_train)\n",
    "X_test_array = np.array(X_test)\n",
    "\n",
    "# fixed initialization\n",
    "cv_fixed_nic = cv_counterprop(X_train_array, y_train_onehot, y_train_labels, model='fixed_w1', random_init=False)\n",
    "\n",
    "# random initialization\n",
    "cv_random_nic = cv_counterprop(X_train_array, y_train_onehot, y_train_labels, model='free_w1', random_init=True)\n",
    "\n",
    "fixed = pd.DataFrame(cv_fixed_nic.rmse_vals)\n",
    "random = pd.DataFrame(cv_random_nic.rmse_vals)\n",
    "fixed['model'] = 'fixed'\n",
    "random['model'] = 'random'\n",
    "\n",
    "rmse_nic = pd.concat([fixed, random], axis=0)\n",
    "\n",
    "rmse_cv(rmse_nic, \"Cross-Validated CProp Training: With Nicotine\")\n",
    "plt.savefig(\"../../reports/figures/counterprop_cv_nic.png\", dpi = 300)"
   ]
  },
  {
   "cell_type": "code",
   "execution_count": 78,
   "metadata": {},
   "outputs": [
    {
     "data": {
      "text/html": [
       "<div>\n",
       "<style scoped>\n",
       "    .dataframe tbody tr th:only-of-type {\n",
       "        vertical-align: middle;\n",
       "    }\n",
       "\n",
       "    .dataframe tbody tr th {\n",
       "        vertical-align: top;\n",
       "    }\n",
       "\n",
       "    .dataframe thead th {\n",
       "        text-align: right;\n",
       "    }\n",
       "</style>\n",
       "<table border=\"1\" class=\"dataframe\">\n",
       "  <thead>\n",
       "    <tr style=\"text-align: right;\">\n",
       "      <th></th>\n",
       "      <th>mean_cv_f1</th>\n",
       "      <th>mean_cv_std</th>\n",
       "      <th>model</th>\n",
       "    </tr>\n",
       "  </thead>\n",
       "  <tbody>\n",
       "    <tr>\n",
       "      <th>1</th>\n",
       "      <td>0.043902</td>\n",
       "      <td>0.012437</td>\n",
       "      <td>fixed_w1</td>\n",
       "    </tr>\n",
       "    <tr>\n",
       "      <th>1</th>\n",
       "      <td>0.080488</td>\n",
       "      <td>0.044038</td>\n",
       "      <td>free_w1</td>\n",
       "    </tr>\n",
       "  </tbody>\n",
       "</table>\n",
       "</div>"
      ],
      "text/plain": [
       "   mean_cv_f1  mean_cv_std     model\n",
       "1    0.043902     0.012437  fixed_w1\n",
       "1    0.080488     0.044038   free_w1"
      ]
     },
     "execution_count": 78,
     "metadata": {},
     "output_type": "execute_result"
    }
   ],
   "source": [
    "pd.concat([cv_fixed_nic.metrics_df, cv_random_nic.metrics_df])"
   ]
  },
  {
   "cell_type": "code",
   "execution_count": 74,
   "metadata": {},
   "outputs": [
    {
     "data": {
      "text/plain": [
       "0.04854368932038835"
      ]
     },
     "execution_count": 74,
     "metadata": {},
     "output_type": "execute_result"
    }
   ],
   "source": [
    "preds_nic_fixed = counterprp_fit_predict(\n",
    "    X_train_array,\n",
    "    X_test_array,\n",
    "    y_train_onehot,\n",
    "    y_test_onehot,\n",
    "    y_test_labels)\n",
    "preds_nic_fixed.f1_pred2"
   ]
  },
  {
   "cell_type": "code",
   "execution_count": 81,
   "metadata": {},
   "outputs": [
    {
     "data": {
      "text/plain": [
       "0.05825242718446602"
      ]
     },
     "execution_count": 81,
     "metadata": {},
     "output_type": "execute_result"
    }
   ],
   "source": [
    "preds_nic_random = counterprp_fit_predict(\n",
    "    X_train_array,\n",
    "    X_test_array,\n",
    "    y_train_onehot,\n",
    "    y_test_onehot,\n",
    "    y_test_labels,\n",
    "    random_init=True)\n",
    "preds_nic_random.f1_pred2"
   ]
  },
  {
   "cell_type": "markdown",
   "metadata": {},
   "source": [
    "Compare Methods "
   ]
  },
  {
   "cell_type": "code",
   "execution_count": 75,
   "metadata": {},
   "outputs": [
    {
     "data": {
      "image/png": "[encoded data removed]",
      "text/plain": [
       "<Figure size 453.25x360 with 1 Axes>"
      ]
     },
     "metadata": {
      "needs_background": "light"
     },
     "output_type": "display_data"
    }
   ],
   "source": [
    "# lm_f1 = pd.DataFrame(\n",
    "#     {\n",
    "#         \"f1\" : [without_nic.clf_mets, with_nic.clf_mets],\n",
    "#         \"label\" : [\"without_nic\", \"with_nic\"],\n",
    "#         \"model\" : ['linear_model*', 'linear_model*']\n",
    "#     }\n",
    "# )\n",
    "\n",
    "cprop_f1 = pd.DataFrame(\n",
    "    {\n",
    "        \"f1\" : [preds_nonic.f1_pred2, preds_nic.f1_pred2],\n",
    "        \"label\" : [\"without_nic\", \"with_nic\"],\n",
    "        \"model\" : ['counter-prop', 'counter-prop']\n",
    "    }\n",
    ")\n",
    "\n",
    "clf_plt(pd.concat([lm_f1, cprop_f1]))\n",
    "# plt.tight_layout()\n",
    "plt.savefig(fname = \"../../reports/figures/clf_perf_twomtd.png\", dpi = 300, bbox_inches='tight')"
   ]
  },
  {
   "cell_type": "markdown",
   "metadata": {},
   "source": [
    "## Backpropagation"
   ]
  },
  {
   "cell_type": "code",
   "execution_count": 76,
   "metadata": {},
   "outputs": [],
   "source": [
    "# from sklearn.neural_network import MLPClassifier\n",
    "\n",
    "# clf = MLPClassifier(\n",
    "#     random_state=random_state,\n",
    "#     activation='logistic'\n",
    "#     )\n",
    "# clf.fit(X_train, y_train['prp_change_bin_label'])\n",
    "\n",
    "# pred = clf.predict(X_test)\n",
    "# prob = clf.predict_proba(X_test)\n",
    "# # f1_score(y_test['prp_change_bin_label'], pred, average = 'micro')\n",
    "# prob[1]\n"
   ]
  },
  {
   "cell_type": "code",
   "execution_count": 77,
   "metadata": {},
   "outputs": [],
   "source": [
    "# from sklearn.neural_network import MLPRegressor\n",
    "\n",
    "# reg = MLPRegressor(\n",
    "#     random_state=random_state,\n",
    "#     activation='logistic',\n",
    "\n",
    "# )\n",
    "\n",
    "# reg.fit(X_train, y_train['prp_change'])\n",
    "# reg.score(X_test, y_test['prp_change'])"
   ]
  }
 ],
 "metadata": {
  "kernelspec": {
   "display_name": "Python 3.9.12 ('base')",
   "language": "python",
   "name": "python3"
  },
  "language_info": {
   "codemirror_mode": {
    "name": "ipython",
    "version": 3
   },
   "file_extension": ".py",
   "mimetype": "text/x-python",
   "name": "python",
   "nbconvert_exporter": "python",
   "pygments_lexer": "ipython3",
   "version": "3.9.12"
  },
  "orig_nbformat": 4,
  "vscode": {
   "interpreter": {
    "hash": "5ccfa51b6a2c575f9ec4b5f633399d96d9a08ae2d3de4a2b338c15ea2dbb5975"
   }
  }
 },
 "nbformat": 4,
 "nbformat_minor": 2
}
