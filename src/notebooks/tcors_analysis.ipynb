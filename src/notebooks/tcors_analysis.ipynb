{
 "cells": [
  {
   "cell_type": "code",
   "execution_count": 7,
   "metadata": {},
   "outputs": [],
   "source": [
    "import pandas as pd\n",
    "import numpy as np\n",
    "from sklearn.compose import ColumnTransformer\n",
    "from sklearn.preprocessing import OneHotEncoder, StandardScaler\n",
    "from sklearn.pipeline import Pipeline\n",
    "from sklearn.linear_model import LogisticRegression\n",
    "\n",
    "import sys\n",
    "\n",
    "sys.path.insert(0, '../visualize/')\n",
    "sys.path.insert(0, '../models/')\n",
    "\n",
    "from tcors_functions import *\n",
    "from counterprop import *\n",
    "from visualize import *\n",
    "\n",
    "random_state = np.random.RandomState(42)\n"
   ]
  },
  {
   "cell_type": "code",
   "execution_count": 5,
   "metadata": {},
   "outputs": [
    {
     "data": {
      "text/html": [
       "<div>\n",
       "<style scoped>\n",
       "    .dataframe tbody tr th:only-of-type {\n",
       "        vertical-align: middle;\n",
       "    }\n",
       "\n",
       "    .dataframe tbody tr th {\n",
       "        vertical-align: top;\n",
       "    }\n",
       "\n",
       "    .dataframe thead th {\n",
       "        text-align: right;\n",
       "    }\n",
       "</style>\n",
       "<table border=\"1\" class=\"dataframe\">\n",
       "  <thead>\n",
       "    <tr style=\"text-align: right;\">\n",
       "      <th></th>\n",
       "      <th>screen_id</th>\n",
       "      <th>week</th>\n",
       "      <th>project</th>\n",
       "      <th>site</th>\n",
       "      <th>dose</th>\n",
       "      <th>screen_sex</th>\n",
       "      <th>screen_age</th>\n",
       "      <th>carmine_nicotine</th>\n",
       "      <th>prp_change</th>\n",
       "      <th>prp_change_bin</th>\n",
       "      <th>prp_change_bin_label</th>\n",
       "    </tr>\n",
       "  </thead>\n",
       "  <tbody>\n",
       "    <tr>\n",
       "      <th>12</th>\n",
       "      <td>J-A001</td>\n",
       "      <td>week12</td>\n",
       "      <td>project 1</td>\n",
       "      <td>uvm</td>\n",
       "      <td>2.4</td>\n",
       "      <td>Female</td>\n",
       "      <td>29</td>\n",
       "      <td>NaN</td>\n",
       "      <td>1.044248</td>\n",
       "      <td>(1.0, 1.1]</td>\n",
       "      <td>20</td>\n",
       "    </tr>\n",
       "    <tr>\n",
       "      <th>37</th>\n",
       "      <td>J-A003</td>\n",
       "      <td>week12</td>\n",
       "      <td>project 1</td>\n",
       "      <td>uvm</td>\n",
       "      <td>15.8</td>\n",
       "      <td>Female</td>\n",
       "      <td>32</td>\n",
       "      <td>16.7</td>\n",
       "      <td>0.487500</td>\n",
       "      <td>(0.4, 0.5]</td>\n",
       "      <td>14</td>\n",
       "    </tr>\n",
       "    <tr>\n",
       "      <th>50</th>\n",
       "      <td>J-A004</td>\n",
       "      <td>week12</td>\n",
       "      <td>project 1</td>\n",
       "      <td>uvm</td>\n",
       "      <td>0.4</td>\n",
       "      <td>Female</td>\n",
       "      <td>38</td>\n",
       "      <td>15.9</td>\n",
       "      <td>0.725225</td>\n",
       "      <td>(0.7, 0.8]</td>\n",
       "      <td>17</td>\n",
       "    </tr>\n",
       "    <tr>\n",
       "      <th>63</th>\n",
       "      <td>J-A005</td>\n",
       "      <td>week12</td>\n",
       "      <td>project 1</td>\n",
       "      <td>uvm</td>\n",
       "      <td>2.4</td>\n",
       "      <td>Female</td>\n",
       "      <td>37</td>\n",
       "      <td>NaN</td>\n",
       "      <td>0.934783</td>\n",
       "      <td>(0.9, 1.0]</td>\n",
       "      <td>19</td>\n",
       "    </tr>\n",
       "    <tr>\n",
       "      <th>76</th>\n",
       "      <td>J-A007</td>\n",
       "      <td>week12</td>\n",
       "      <td>project 1</td>\n",
       "      <td>uvm</td>\n",
       "      <td>15.8</td>\n",
       "      <td>Female</td>\n",
       "      <td>44</td>\n",
       "      <td>16.2</td>\n",
       "      <td>0.971223</td>\n",
       "      <td>(0.9, 1.0]</td>\n",
       "      <td>19</td>\n",
       "    </tr>\n",
       "  </tbody>\n",
       "</table>\n",
       "</div>"
      ],
      "text/plain": [
       "   screen_id    week    project site  dose screen_sex  screen_age  \\\n",
       "12    J-A001  week12  project 1  uvm   2.4     Female          29   \n",
       "37    J-A003  week12  project 1  uvm  15.8     Female          32   \n",
       "50    J-A004  week12  project 1  uvm   0.4     Female          38   \n",
       "63    J-A005  week12  project 1  uvm   2.4     Female          37   \n",
       "76    J-A007  week12  project 1  uvm  15.8     Female          44   \n",
       "\n",
       "    carmine_nicotine  prp_change prp_change_bin  prp_change_bin_label  \n",
       "12               NaN    1.044248     (1.0, 1.1]                    20  \n",
       "37              16.7    0.487500     (0.4, 0.5]                    14  \n",
       "50              15.9    0.725225     (0.7, 0.8]                    17  \n",
       "63               NaN    0.934783     (0.9, 1.0]                    19  \n",
       "76              16.2    0.971223     (0.9, 1.0]                    19  "
      ]
     },
     "execution_count": 5,
     "metadata": {},
     "output_type": "execute_result"
    }
   ],
   "source": [
    "df = load_features('model_features.pkl')\n",
    "df.head()"
   ]
  },
  {
   "cell_type": "markdown",
   "metadata": {},
   "source": [
    "Split data into test/train"
   ]
  },
  {
   "cell_type": "code",
   "execution_count": 9,
   "metadata": {},
   "outputs": [],
   "source": [
    "targets = ['prp_change', 'prp_change_bin', 'prp_change_bin_label']\n",
    "X_train, X_test, y_train, y_test = make_training_split(df, targets, random_state=random_state)"
   ]
  },
  {
   "cell_type": "code",
   "execution_count": 12,
   "metadata": {},
   "outputs": [
    {
     "name": "stdout",
     "output_type": "stream",
     "text": [
      "(470, 8)(470, 3)\n"
     ]
    }
   ],
   "source": [
    "print(str(X_train.shape) + str(y_train.shape))"
   ]
  },
  {
   "cell_type": "markdown",
   "metadata": {},
   "source": [
    "## Linear Model\n",
    "### Logistic Regression\n",
    "\n"
   ]
  }
 ],
 "metadata": {
  "kernelspec": {
   "display_name": "Python 3.9.12 ('base')",
   "language": "python",
   "name": "python3"
  },
  "language_info": {
   "codemirror_mode": {
    "name": "ipython",
    "version": 3
   },
   "file_extension": ".py",
   "mimetype": "text/x-python",
   "name": "python",
   "nbconvert_exporter": "python",
   "pygments_lexer": "ipython3",
   "version": "3.9.12"
  },
  "orig_nbformat": 4,
  "vscode": {
   "interpreter": {
    "hash": "5ccfa51b6a2c575f9ec4b5f633399d96d9a08ae2d3de4a2b338c15ea2dbb5975"
   }
  }
 },
 "nbformat": 4,
 "nbformat_minor": 2
}
