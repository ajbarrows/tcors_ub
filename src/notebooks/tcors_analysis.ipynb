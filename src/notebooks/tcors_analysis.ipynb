{
 "cells": [
  {
   "cell_type": "code",
   "execution_count": 75,
   "metadata": {},
   "outputs": [],
   "source": [
    "import pandas as pd\n",
    "import numpy as np\n",
    "import sys\n",
    "\n",
    "sys.path.insert(0, '../visualize/')\n",
    "sys.path.insert(0, '../models/')\n",
    "sys.path.insert(0, '../features/')\n",
    "\n",
    "from tcors_functions import *\n",
    "from build_features import *\n",
    "from counterprop import *\n",
    "from linear_regression import *\n",
    "from visualize import *\n",
    "\n",
    "from sklearn.preprocessing import MinMaxScaler\n",
    "from sklearn.model_selection import train_test_split\n",
    "from sklearn.metrics import f1_score\n",
    "\n",
    "random_state = 42\n",
    "\n",
    "bin_step = 0.1"
   ]
  },
  {
   "cell_type": "markdown",
   "metadata": {},
   "source": [
    "Prepare Data"
   ]
  },
  {
   "cell_type": "code",
   "execution_count": 60,
   "metadata": {},
   "outputs": [],
   "source": [
    "build_features(step = bin_step)"
   ]
  },
  {
   "cell_type": "code",
   "execution_count": 61,
   "metadata": {},
   "outputs": [
    {
     "data": {
      "text/html": [
       "<div>\n",
       "<style scoped>\n",
       "    .dataframe tbody tr th:only-of-type {\n",
       "        vertical-align: middle;\n",
       "    }\n",
       "\n",
       "    .dataframe tbody tr th {\n",
       "        vertical-align: top;\n",
       "    }\n",
       "\n",
       "    .dataframe thead th {\n",
       "        text-align: right;\n",
       "    }\n",
       "</style>\n",
       "<table border=\"1\" class=\"dataframe\">\n",
       "  <thead>\n",
       "    <tr style=\"text-align: right;\">\n",
       "      <th></th>\n",
       "      <th>screen_id</th>\n",
       "      <th>week</th>\n",
       "      <th>project</th>\n",
       "      <th>site</th>\n",
       "      <th>dose</th>\n",
       "      <th>screen_sex</th>\n",
       "      <th>screen_age</th>\n",
       "      <th>carmine_nicotine</th>\n",
       "      <th>prp_change</th>\n",
       "      <th>prp_change_bin</th>\n",
       "      <th>prp_change_bin_label</th>\n",
       "    </tr>\n",
       "  </thead>\n",
       "  <tbody>\n",
       "    <tr>\n",
       "      <th>37</th>\n",
       "      <td>J-A003</td>\n",
       "      <td>week12</td>\n",
       "      <td>project 1</td>\n",
       "      <td>uvm</td>\n",
       "      <td>15.8</td>\n",
       "      <td>Female</td>\n",
       "      <td>32</td>\n",
       "      <td>16.7</td>\n",
       "      <td>0.487500</td>\n",
       "      <td>(0.4, 0.5]</td>\n",
       "      <td>4</td>\n",
       "    </tr>\n",
       "    <tr>\n",
       "      <th>50</th>\n",
       "      <td>J-A004</td>\n",
       "      <td>week12</td>\n",
       "      <td>project 1</td>\n",
       "      <td>uvm</td>\n",
       "      <td>0.4</td>\n",
       "      <td>Female</td>\n",
       "      <td>38</td>\n",
       "      <td>15.9</td>\n",
       "      <td>0.725225</td>\n",
       "      <td>(0.7, 0.8]</td>\n",
       "      <td>7</td>\n",
       "    </tr>\n",
       "    <tr>\n",
       "      <th>76</th>\n",
       "      <td>J-A007</td>\n",
       "      <td>week12</td>\n",
       "      <td>project 1</td>\n",
       "      <td>uvm</td>\n",
       "      <td>15.8</td>\n",
       "      <td>Female</td>\n",
       "      <td>44</td>\n",
       "      <td>16.2</td>\n",
       "      <td>0.971223</td>\n",
       "      <td>(0.9, 1.0]</td>\n",
       "      <td>9</td>\n",
       "    </tr>\n",
       "    <tr>\n",
       "      <th>89</th>\n",
       "      <td>J-A010</td>\n",
       "      <td>week12</td>\n",
       "      <td>project 1</td>\n",
       "      <td>uvm</td>\n",
       "      <td>15.8</td>\n",
       "      <td>Female</td>\n",
       "      <td>28</td>\n",
       "      <td>15.8</td>\n",
       "      <td>0.895522</td>\n",
       "      <td>(0.8, 0.9]</td>\n",
       "      <td>8</td>\n",
       "    </tr>\n",
       "    <tr>\n",
       "      <th>117</th>\n",
       "      <td>J-A015</td>\n",
       "      <td>week12</td>\n",
       "      <td>project 1</td>\n",
       "      <td>uvm</td>\n",
       "      <td>15.8</td>\n",
       "      <td>Female</td>\n",
       "      <td>25</td>\n",
       "      <td>16.9</td>\n",
       "      <td>1.315152</td>\n",
       "      <td>(1.3, 1.4]</td>\n",
       "      <td>13</td>\n",
       "    </tr>\n",
       "  </tbody>\n",
       "</table>\n",
       "</div>"
      ],
      "text/plain": [
       "    screen_id    week    project site  dose screen_sex  screen_age  \\\n",
       "37     J-A003  week12  project 1  uvm  15.8     Female          32   \n",
       "50     J-A004  week12  project 1  uvm   0.4     Female          38   \n",
       "76     J-A007  week12  project 1  uvm  15.8     Female          44   \n",
       "89     J-A010  week12  project 1  uvm  15.8     Female          28   \n",
       "117    J-A015  week12  project 1  uvm  15.8     Female          25   \n",
       "\n",
       "     carmine_nicotine  prp_change prp_change_bin  prp_change_bin_label  \n",
       "37               16.7    0.487500     (0.4, 0.5]                     4  \n",
       "50               15.9    0.725225     (0.7, 0.8]                     7  \n",
       "76               16.2    0.971223     (0.9, 1.0]                     9  \n",
       "89               15.8    0.895522     (0.8, 0.9]                     8  \n",
       "117              16.9    1.315152     (1.3, 1.4]                    13  "
      ]
     },
     "execution_count": 61,
     "metadata": {},
     "output_type": "execute_result"
    }
   ],
   "source": [
    "df = load_features('model_features.pkl')\n",
    "df.head()"
   ]
  },
  {
   "cell_type": "code",
   "execution_count": 62,
   "metadata": {},
   "outputs": [
    {
     "data": {
      "text/plain": [
       "screen_id                 object\n",
       "week                      object\n",
       "project                   object\n",
       "site                      object\n",
       "dose                     float64\n",
       "screen_sex                object\n",
       "screen_age                 int64\n",
       "carmine_nicotine         float64\n",
       "prp_change               float64\n",
       "prp_change_bin          category\n",
       "prp_change_bin_label        int8\n",
       "dtype: object"
      ]
     },
     "execution_count": 62,
     "metadata": {},
     "output_type": "execute_result"
    }
   ],
   "source": [
    "df.dtypes"
   ]
  },
  {
   "cell_type": "code",
   "execution_count": 63,
   "metadata": {},
   "outputs": [
    {
     "data": {
      "image/png": "[encoded data removed]",
      "text/plain": [
       "<Figure size 418.375x360 with 1 Axes>"
      ]
     },
     "metadata": {
      "needs_background": "light"
     },
     "output_type": "display_data"
    }
   ],
   "source": [
    " plot_bins(df)\n",
    " plt.tight_layout()\n",
    "plt.savefig(\"../../reports/figures/prp_change.png\", dpi = 300)"
   ]
  },
  {
   "cell_type": "code",
   "execution_count": null,
   "metadata": {},
   "outputs": [],
   "source": []
  },
  {
   "cell_type": "code",
   "execution_count": 64,
   "metadata": {},
   "outputs": [],
   "source": [
    "\n",
    "cat_targets = ['prp_change_bin_label']\n",
    "num_targets = ['prp_change']\n",
    "# cat_predictors = ['project', 'site', 'dose', 'screen_sex']\n",
    "num_predictors = ['screen_age', 'dose', 'project_num', 'sex_num', 'site_num', 'carmine_nicotine']\n",
    "num_predictors_withoutnic = num_predictors[:]\n",
    "num_predictors_withoutnic.remove('carmine_nicotine')\n",
    "\n",
    "  # create numeric versions of categorical variables\n",
    "df['project_num'] = df['project'].astype('category').cat.codes\n",
    "df['site_num'] = df['site'].astype('category').cat.codes\n",
    "df['sex_num'] = df['screen_sex'].astype('category').cat.codes\n",
    "\n",
    "def preprocessing(df, num_predictors, random_state):\n",
    "  \n",
    "    X = df[num_predictors]\n",
    "    y = df[cat_targets + num_targets]\n",
    "\n",
    "    X_train, X_test, y_train, y_test = train_test_split(X, y, test_size=0.2, random_state=random_state)\n",
    "\n",
    "    scaler = MinMaxScaler()\n",
    "    scaler.fit(X_train[num_predictors])\n",
    "\n",
    "    X_train[num_predictors] = scaler.transform(X_train[num_predictors])\n",
    "    X_test[num_predictors] = scaler.transform(X_test[num_predictors])\n",
    "\n",
    "    X_train_without_nic = X_train.copy()\n",
    "    X_test_without_nic = X_test.copy()\n",
    "\n",
    "    X_train_without_nic.drop(['carmine_nicotine'], axis=1, inplace=True)\n",
    "    X_test_without_nic.drop(['carmine_nicotine'], axis=1, inplace=True)\n",
    "\n",
    "    return X_train, X_test, X_train_without_nic, X_test_without_nic, y_train, y_test\n",
    "\n",
    "X_train, X_test, X_train_without_nic, X_test_without_nic, y_train, y_test = preprocessing(\n",
    "  df, num_predictors, random_state\n",
    "  )\n",
    "\n",
    "   "
   ]
  },
  {
   "cell_type": "code",
   "execution_count": 65,
   "metadata": {},
   "outputs": [
    {
     "data": {
      "text/html": [
       "<div>\n",
       "<style scoped>\n",
       "    .dataframe tbody tr th:only-of-type {\n",
       "        vertical-align: middle;\n",
       "    }\n",
       "\n",
       "    .dataframe tbody tr th {\n",
       "        vertical-align: top;\n",
       "    }\n",
       "\n",
       "    .dataframe thead th {\n",
       "        text-align: right;\n",
       "    }\n",
       "</style>\n",
       "<table border=\"1\" class=\"dataframe\">\n",
       "  <thead>\n",
       "    <tr style=\"text-align: right;\">\n",
       "      <th></th>\n",
       "      <th>screen_age</th>\n",
       "      <th>dose</th>\n",
       "      <th>project_num</th>\n",
       "      <th>sex_num</th>\n",
       "      <th>site_num</th>\n",
       "      <th>carmine_nicotine</th>\n",
       "    </tr>\n",
       "  </thead>\n",
       "  <tbody>\n",
       "    <tr>\n",
       "      <th>5706</th>\n",
       "      <td>0.32</td>\n",
       "      <td>1.00000</td>\n",
       "      <td>1.0</td>\n",
       "      <td>0.0</td>\n",
       "      <td>1.0</td>\n",
       "      <td>0.689441</td>\n",
       "    </tr>\n",
       "    <tr>\n",
       "      <th>8791</th>\n",
       "      <td>0.24</td>\n",
       "      <td>1.00000</td>\n",
       "      <td>0.5</td>\n",
       "      <td>0.0</td>\n",
       "      <td>0.5</td>\n",
       "      <td>0.236025</td>\n",
       "    </tr>\n",
       "    <tr>\n",
       "      <th>7935</th>\n",
       "      <td>0.18</td>\n",
       "      <td>1.00000</td>\n",
       "      <td>0.0</td>\n",
       "      <td>0.0</td>\n",
       "      <td>0.5</td>\n",
       "      <td>0.347826</td>\n",
       "    </tr>\n",
       "    <tr>\n",
       "      <th>3008</th>\n",
       "      <td>0.20</td>\n",
       "      <td>1.00000</td>\n",
       "      <td>0.5</td>\n",
       "      <td>1.0</td>\n",
       "      <td>1.0</td>\n",
       "      <td>0.254658</td>\n",
       "    </tr>\n",
       "    <tr>\n",
       "      <th>8817</th>\n",
       "      <td>0.60</td>\n",
       "      <td>0.12987</td>\n",
       "      <td>0.5</td>\n",
       "      <td>1.0</td>\n",
       "      <td>0.5</td>\n",
       "      <td>0.354037</td>\n",
       "    </tr>\n",
       "    <tr>\n",
       "      <th>...</th>\n",
       "      <td>...</td>\n",
       "      <td>...</td>\n",
       "      <td>...</td>\n",
       "      <td>...</td>\n",
       "      <td>...</td>\n",
       "      <td>...</td>\n",
       "    </tr>\n",
       "    <tr>\n",
       "      <th>7295</th>\n",
       "      <td>0.32</td>\n",
       "      <td>1.00000</td>\n",
       "      <td>0.0</td>\n",
       "      <td>0.0</td>\n",
       "      <td>0.5</td>\n",
       "      <td>0.155280</td>\n",
       "    </tr>\n",
       "    <tr>\n",
       "      <th>3277</th>\n",
       "      <td>0.48</td>\n",
       "      <td>0.00000</td>\n",
       "      <td>0.5</td>\n",
       "      <td>0.0</td>\n",
       "      <td>1.0</td>\n",
       "      <td>0.161491</td>\n",
       "    </tr>\n",
       "    <tr>\n",
       "      <th>5233</th>\n",
       "      <td>0.30</td>\n",
       "      <td>1.00000</td>\n",
       "      <td>1.0</td>\n",
       "      <td>1.0</td>\n",
       "      <td>1.0</td>\n",
       "      <td>0.347826</td>\n",
       "    </tr>\n",
       "    <tr>\n",
       "      <th>8924</th>\n",
       "      <td>0.36</td>\n",
       "      <td>1.00000</td>\n",
       "      <td>0.5</td>\n",
       "      <td>0.0</td>\n",
       "      <td>0.5</td>\n",
       "      <td>0.354037</td>\n",
       "    </tr>\n",
       "    <tr>\n",
       "      <th>8986</th>\n",
       "      <td>0.88</td>\n",
       "      <td>0.12987</td>\n",
       "      <td>0.5</td>\n",
       "      <td>1.0</td>\n",
       "      <td>0.5</td>\n",
       "      <td>0.155280</td>\n",
       "    </tr>\n",
       "  </tbody>\n",
       "</table>\n",
       "<p>103 rows × 6 columns</p>\n",
       "</div>"
      ],
      "text/plain": [
       "      screen_age     dose  project_num  sex_num  site_num  carmine_nicotine\n",
       "5706        0.32  1.00000          1.0      0.0       1.0          0.689441\n",
       "8791        0.24  1.00000          0.5      0.0       0.5          0.236025\n",
       "7935        0.18  1.00000          0.0      0.0       0.5          0.347826\n",
       "3008        0.20  1.00000          0.5      1.0       1.0          0.254658\n",
       "8817        0.60  0.12987          0.5      1.0       0.5          0.354037\n",
       "...          ...      ...          ...      ...       ...               ...\n",
       "7295        0.32  1.00000          0.0      0.0       0.5          0.155280\n",
       "3277        0.48  0.00000          0.5      0.0       1.0          0.161491\n",
       "5233        0.30  1.00000          1.0      1.0       1.0          0.347826\n",
       "8924        0.36  1.00000          0.5      0.0       0.5          0.354037\n",
       "8986        0.88  0.12987          0.5      1.0       0.5          0.155280\n",
       "\n",
       "[103 rows x 6 columns]"
      ]
     },
     "execution_count": 65,
     "metadata": {},
     "output_type": "execute_result"
    }
   ],
   "source": [
    "X_test"
   ]
  },
  {
   "cell_type": "markdown",
   "metadata": {},
   "source": [
    "## Linear Regression"
   ]
  },
  {
   "cell_type": "code",
   "execution_count": 66,
   "metadata": {},
   "outputs": [],
   "source": [
    "without_nic = fit_linear(\n",
    "    X_train_without_nic,\n",
    "    X_test_without_nic,\n",
    "    y_train[['prp_change']],\n",
    "    y_test[['prp_change']],\n",
    "    bin_step = bin_step,\n",
    "    random_state=random_state\n",
    ")\n",
    "\n",
    "with_nic = fit_linear(\n",
    "    X_train,\n",
    "    X_test,\n",
    "    y_train[['prp_change']],\n",
    "    y_test[['prp_change']],\n",
    "    bin_step = bin_step,\n",
    "    random_state=random_state\n",
    ")"
   ]
  },
  {
   "cell_type": "markdown",
   "metadata": {},
   "source": [
    "Performance when treated as a regression"
   ]
  },
  {
   "cell_type": "code",
   "execution_count": 67,
   "metadata": {},
   "outputs": [
    {
     "data": {
      "text/html": [
       "<div>\n",
       "<style scoped>\n",
       "    .dataframe tbody tr th:only-of-type {\n",
       "        vertical-align: middle;\n",
       "    }\n",
       "\n",
       "    .dataframe tbody tr th {\n",
       "        vertical-align: top;\n",
       "    }\n",
       "\n",
       "    .dataframe thead th {\n",
       "        text-align: right;\n",
       "    }\n",
       "</style>\n",
       "<table border=\"1\" class=\"dataframe\">\n",
       "  <thead>\n",
       "    <tr style=\"text-align: right;\">\n",
       "      <th></th>\n",
       "      <th>mean_cv_r2</th>\n",
       "      <th>sd_cv_r2</th>\n",
       "      <th>test_r2</th>\n",
       "      <th>label</th>\n",
       "      <th>model</th>\n",
       "    </tr>\n",
       "  </thead>\n",
       "  <tbody>\n",
       "    <tr>\n",
       "      <th>1</th>\n",
       "      <td>0.083358</td>\n",
       "      <td>0.075021</td>\n",
       "      <td>0.139511</td>\n",
       "      <td>without_nic</td>\n",
       "      <td>linear_model</td>\n",
       "    </tr>\n",
       "    <tr>\n",
       "      <th>1</th>\n",
       "      <td>0.074846</td>\n",
       "      <td>0.075885</td>\n",
       "      <td>0.092326</td>\n",
       "      <td>with_nic</td>\n",
       "      <td>linear_model</td>\n",
       "    </tr>\n",
       "  </tbody>\n",
       "</table>\n",
       "</div>"
      ],
      "text/plain": [
       "   mean_cv_r2  sd_cv_r2   test_r2        label         model\n",
       "1    0.083358  0.075021  0.139511  without_nic  linear_model\n",
       "1    0.074846  0.075885  0.092326     with_nic  linear_model"
      ]
     },
     "execution_count": 67,
     "metadata": {},
     "output_type": "execute_result"
    }
   ],
   "source": [
    "wo_nic_avg = without_nic.avg_scores\n",
    "wo_nic_avg['label'] = 'without_nic'\n",
    "\n",
    "w_nic_avg = with_nic.avg_scores\n",
    "w_nic_avg['label'] = 'with_nic'\n",
    "\n",
    "lm_r2 = pd.concat([wo_nic_avg, w_nic_avg])\n",
    "lm_r2['model'] = 'linear_model'\n",
    "\n",
    "lm_r2"
   ]
  },
  {
   "cell_type": "markdown",
   "metadata": {},
   "source": [
    "Performance when treated as a classifier"
   ]
  },
  {
   "cell_type": "code",
   "execution_count": 68,
   "metadata": {},
   "outputs": [
    {
     "data": {
      "text/html": [
       "<div>\n",
       "<style scoped>\n",
       "    .dataframe tbody tr th:only-of-type {\n",
       "        vertical-align: middle;\n",
       "    }\n",
       "\n",
       "    .dataframe tbody tr th {\n",
       "        vertical-align: top;\n",
       "    }\n",
       "\n",
       "    .dataframe thead th {\n",
       "        text-align: right;\n",
       "    }\n",
       "</style>\n",
       "<table border=\"1\" class=\"dataframe\">\n",
       "  <thead>\n",
       "    <tr style=\"text-align: right;\">\n",
       "      <th></th>\n",
       "      <th>f1</th>\n",
       "      <th>label</th>\n",
       "      <th>model</th>\n",
       "    </tr>\n",
       "  </thead>\n",
       "  <tbody>\n",
       "    <tr>\n",
       "      <th>0</th>\n",
       "      <td>0.106796</td>\n",
       "      <td>without_nic</td>\n",
       "      <td>linear_model*</td>\n",
       "    </tr>\n",
       "    <tr>\n",
       "      <th>1</th>\n",
       "      <td>0.116505</td>\n",
       "      <td>with_nic</td>\n",
       "      <td>linear_model*</td>\n",
       "    </tr>\n",
       "  </tbody>\n",
       "</table>\n",
       "</div>"
      ],
      "text/plain": [
       "         f1        label          model\n",
       "0  0.106796  without_nic  linear_model*\n",
       "1  0.116505     with_nic  linear_model*"
      ]
     },
     "execution_count": 68,
     "metadata": {},
     "output_type": "execute_result"
    }
   ],
   "source": [
    "lm_f1 = pd.DataFrame(\n",
    "    {\n",
    "        \"f1\" : [without_nic.clf_mets, with_nic.clf_mets],\n",
    "        \"label\" : [\"without_nic\", \"with_nic\"],\n",
    "        \"model\" : ['linear_model*', 'linear_model*']\n",
    "    }\n",
    ")\n",
    "lm_f1\n"
   ]
  },
  {
   "cell_type": "code",
   "execution_count": 69,
   "metadata": {},
   "outputs": [
    {
     "data": {
      "image/png": "[encoded data removed]",
      "text/plain": [
       "<Figure size 453.25x360 with 1 Axes>"
      ]
     },
     "metadata": {
      "needs_background": "light"
     },
     "output_type": "display_data"
    }
   ],
   "source": [
    "clf_plt(lm_f1)"
   ]
  },
  {
   "cell_type": "markdown",
   "metadata": {},
   "source": [
    "## Counter-Propagation  "
   ]
  },
  {
   "cell_type": "code",
   "execution_count": 70,
   "metadata": {},
   "outputs": [
    {
     "data": {
      "text/plain": [
       "array([17,  6,  9,  3, 20, 11,  7, 14, 10,  8,  5, 16,  1,  0,  2, 12, 19,\n",
       "       13, 15,  4, 18], dtype=int8)"
      ]
     },
     "execution_count": 70,
     "metadata": {},
     "output_type": "execute_result"
    }
   ],
   "source": [
    "# np.save(file = \"../../data/processed/X_train.npy\", arr= X_train_without_nic)\n",
    "# np.save(file = \"../../data/processed/y_train.npy\", arr = y_train['prp_change_bin_label'])\n",
    "\n",
    "y_train_onehot = onehot_output(y_train['prp_change_bin_label'])\n",
    "y_train['prp_change_bin_label'].unique()"
   ]
  },
  {
   "cell_type": "code",
   "execution_count": 71,
   "metadata": {},
   "outputs": [
    {
     "name": "stdout",
     "output_type": "stream",
     "text": [
      "[[ 0.38754938  0.73214056  0.40741586 ...  0.75565309  0.60021494\n",
      "   0.37172582]\n",
      " [ 0.91199553  0.12803329  0.11422667 ...  0.05246711  1.01022854\n",
      "   0.22973165]\n",
      " [ 1.18330754  0.88677916  0.50649859 ...  0.99177855  0.17131463\n",
      "   0.55781876]\n",
      " [-0.0281525   1.02089193 -0.02552695 ...  1.10161509 -0.17077489\n",
      "   0.00154151]\n",
      " [ 1.11186428  0.08737986  0.9933202  ...  0.05103984  0.55599857\n",
      "   1.1061841 ]]\n"
     ]
    }
   ],
   "source": [
    "y_train_onehot = onehot_output(y_train['prp_change_bin_label'])\n",
    "mod = train_model(\n",
    "    np.array(X_train_without_nic), \n",
    "    y_train_onehot, \n",
    "    n_hidden = len(X_train), \n",
    "    epochs=25)"
   ]
  },
  {
   "cell_type": "code",
   "execution_count": 81,
   "metadata": {},
   "outputs": [
    {
     "data": {
      "text/plain": [
       "0.15853658536585366"
      ]
     },
     "execution_count": 81,
     "metadata": {},
     "output_type": "execute_result"
    }
   ],
   "source": [
    "f1_score(y_train['prp_change_bin_label'], np.argmax(mod.outputs, axis=1), average = 'micro')\n",
    "\n"
   ]
  },
  {
   "cell_type": "code",
   "execution_count": 54,
   "metadata": {},
   "outputs": [
    {
     "data": {
      "image/png": "[encoded data removed]",
      "text/plain": [
       "<Figure size 432x288 with 1 Axes>"
      ]
     },
     "metadata": {
      "needs_background": "light"
     },
     "output_type": "display_data"
    }
   ],
   "source": [
    "plt.plot(mod.rmse_values)\n",
    "plt.ylabel(\"RMSE\")\n",
    "plt.title(\"Counter-Propagation With 2-Stage Training\")\n",
    "plt.savefig(\"../../reports/figures/counterprop_train.png\", dpi = 300)\n",
    "plt.show()\n"
   ]
  }
 ],
 "metadata": {
  "kernelspec": {
   "display_name": "Python 3.9.12 ('base')",
   "language": "python",
   "name": "python3"
  },
  "language_info": {
   "codemirror_mode": {
    "name": "ipython",
    "version": 3
   },
   "file_extension": ".py",
   "mimetype": "text/x-python",
   "name": "python",
   "nbconvert_exporter": "python",
   "pygments_lexer": "ipython3",
   "version": "3.9.12"
  },
  "orig_nbformat": 4,
  "vscode": {
   "interpreter": {
    "hash": "5ccfa51b6a2c575f9ec4b5f633399d96d9a08ae2d3de4a2b338c15ea2dbb5975"
   }
  }
 },
 "nbformat": 4,
 "nbformat_minor": 2
}
